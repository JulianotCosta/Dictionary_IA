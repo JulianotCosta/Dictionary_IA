{
  "nbformat": 4,
  "nbformat_minor": 0,
  "metadata": {
    "colab": {
      "provenance": [],
      "authorship_tag": "ABX9TyNECbJ+wG1UZ4EejWD0vvW8",
      "include_colab_link": true
    },
    "kernelspec": {
      "name": "python3",
      "display_name": "Python 3"
    },
    "language_info": {
      "name": "python"
    }
  },
  "cells": [
    {
      "cell_type": "markdown",
      "metadata": {
        "id": "view-in-github",
        "colab_type": "text"
      },
      "source": [
        "<a href=\"https://colab.research.google.com/github/JulianotCosta/Dictionary_IA/blob/master/Patrimonio.ipynb\" target=\"_parent\"><img src=\"https://colab.research.google.com/assets/colab-badge.svg\" alt=\"Open In Colab\"/></a>"
      ]
    },
    {
      "cell_type": "code",
      "execution_count": 19,
      "metadata": {
        "colab": {
          "base_uri": "https://localhost:8080/"
        },
        "id": "H8PysvcaRKPM",
        "outputId": "c05158fc-e881-4d6e-f287-b624faa51fbf"
      },
      "outputs": [
        {
          "output_type": "stream",
          "name": "stdout",
          "text": [
            "    ano  mes     Unisys  Salesforce  Fii Ações   caixa  Contas aporte  \\\n",
            "0  2024    2  321495.24    92066.30   94000.00     0.0            0.0   \n",
            "1  2024    3  324101.62    96638.67   98256.47     0.0         1700.0   \n",
            "2  2024    4  326190.57   100605.60  100791.65     0.0         1700.0   \n",
            "3  2024    5  326232.22   104946.00  103348.38     0.0         1700.0   \n",
            "4  2024    6  328617.12   109247.00  111500.00     0.0         1000.0   \n",
            "5  2024    7  330290.86   114808.00  108183.00  5566.0         1250.0   \n",
            "6  2024    8  334187.39   119510.45  114518.00  6701.0         1450.0   \n",
            "7  2024    9  336058.84   123467.13  115723.00  6037.0         1450.0   \n",
            "\n",
            "   Redimento Teorico  Ações Salesforce  total_mes  diferenca_mes_anterior  \\\n",
            "0               0.00              0.00  507561.54                     NaN   \n",
            "1            4346.57              0.00  525043.33                17481.79   \n",
            "2            4495.17              0.00  533782.99                 8739.66   \n",
            "3            4569.46          45149.50  585945.56                52162.57   \n",
            "4            5012.84          60038.72  615415.68                29470.12   \n",
            "5            5263.33          63602.00  628963.19                13547.51   \n",
            "6            5378.49          63695.11  645440.44                16477.25   \n",
            "7            5518.54          68647.26  656901.77                11461.33   \n",
            "\n",
            "   taxa_crescimento  \n",
            "0               NaN  \n",
            "1          3.444270  \n",
            "2          1.664560  \n",
            "3          9.772243  \n",
            "4          5.029498  \n",
            "5          2.201359  \n",
            "6          2.619748  \n",
            "7          1.775738  \n"
          ]
        }
      ],
      "source": [
        "import pandas as pd\n",
        "\n",
        "# Carregar o arquivo CSV em um DataFrame\n",
        "df = pd.read_csv(\"/content/Patrimonio.csv\", sep=';')\n",
        "\n",
        "# Converter as colunas 'mes' e 'ano' em inteiros, se necessário\n",
        "df['mes'] = df['mes'].astype(int)\n",
        "df['ano'] = df['ano'].astype(int)\n",
        "\n",
        "# Selecionar as colunas de valores em reais para soma\n",
        "colunas_valores = ['Unisys', 'Salesforce', 'Fii Ações', 'caixa', 'Contas aporte', 'Redimento Teorico', 'Ações Salesforce']\n",
        "\n",
        "# Garantir que as colunas de valores estão no formato numérico\n",
        "df[colunas_valores] = df[colunas_valores].apply(pd.to_numeric, errors='coerce')\n",
        "\n",
        "# Agrupar por ano e mês, somando os valores de todas as colunas\n",
        "df_agrupado = df.groupby(['ano', 'mes'])[colunas_valores].sum().reset_index()\n",
        "\n",
        "# Criar uma nova coluna para a soma total de todas as colunas de valor em cada mês\n",
        "df_agrupado['total_mes'] = df_agrupado[colunas_valores].sum(axis=1)\n",
        "\n",
        "# Ordenar pelo ano e mês (ordem crescente)\n",
        "df_agrupado = df_agrupado.sort_values(by=['ano', 'mes'])\n",
        "\n",
        "# Calcular a diferença do valor total do mês atual em relação ao mês anterior\n",
        "df_agrupado['diferenca_mes_anterior'] = df_agrupado['total_mes'].diff()\n",
        "\n",
        "# Calcular a taxa de crescimento do patrimônio\n",
        "# Evitar divisão por zero, por isso, usa-se a função `where`\n",
        "df_agrupado['taxa_crescimento'] = df_agrupado['diferenca_mes_anterior'] / df_agrupado['total_mes'].shift(1) * 100\n",
        "\n",
        "# Exibir o DataFrame resultante\n",
        "print(df_agrupado)\n",
        "\n"
      ]
    },
    {
      "cell_type": "code",
      "source": [
        "import pandas as pd\n",
        "import numpy as np\n",
        "\n",
        "# Carregar o arquivo CSV em um DataFrame\n",
        "df = pd.read_csv(\"/content/Patrimonio.csv\", sep=';')\n",
        "\n",
        "# Converter as colunas 'mes' e 'ano' em inteiros, se necessário\n",
        "df['mes'] = df['mes'].astype(int)\n",
        "df['ano'] = df['ano'].astype(int)\n",
        "\n",
        "# Selecionar as colunas de valores em reais para soma\n",
        "colunas_valores = ['Unisys', 'Salesforce', 'Fii Ações', 'caixa', 'Contas aporte', 'Redimento Teorico', 'Ações Salesforce']\n",
        "\n",
        "# Garantir que as colunas de valores estão no formato numérico\n",
        "df[colunas_valores] = df[colunas_valores].apply(pd.to_numeric, errors='coerce')\n",
        "\n",
        "# Agrupar por ano e mês, somando os valores de todas as colunas\n",
        "df_agrupado = df.groupby(['ano', 'mes'])[colunas_valores].sum().reset_index()\n",
        "\n",
        "# Criar uma nova coluna para a soma total de todas as colunas de valor em cada mês\n",
        "df_agrupado['total_mes'] = df_agrupado[colunas_valores].sum(axis=1)\n",
        "\n",
        "# Ordenar pelo ano e mês (ordem crescente)\n",
        "df_agrupado = df_agrupado.sort_values(by=['ano', 'mes'])\n",
        "\n",
        "# Calcular a diferença do valor total do mês atual em relação ao mês anterior\n",
        "df_agrupado['diferenca_mes_anterior'] = df_agrupado['total_mes'].diff()\n",
        "\n",
        "# Calcular a taxa de crescimento do patrimônio\n",
        "df_agrupado['taxa_crescimento'] = df_agrupado['diferenca_mes_anterior'] / df_agrupado['total_mes'].shift(1)\n",
        "\n",
        "# Calcular a taxa de crescimento média\n",
        "taxa_crescimento_media = df_agrupado['taxa_crescimento'].mean()\n",
        "\n",
        "# Exibir a taxa de crescimento média em porcentagem\n",
        "print(f\"Taxa de crescimento média: {taxa_crescimento_media * 100:.2f}%\")\n",
        "\n",
        "# Obter o valor mais recente de total_mes\n",
        "valor_atual = df_agrupado['total_mes'].iloc[-1]\n",
        "\n",
        "# Inicializar o valor alvo e o número de meses\n",
        "valor_alvo = 1_000_000\n",
        "num_meses = 0\n",
        "\n",
        "# Calcular o tempo necessário para alcançar o valor alvo\n",
        "while valor_atual < valor_alvo:\n",
        "    valor_atual *= (1 + taxa_crescimento_media)\n",
        "    num_meses += 1\n",
        "\n",
        "# Exibir o tempo necessário para alcançar o valor alvo\n",
        "print(f\"Tempo necessário para alcançar R$1.000.000: {num_meses} meses\")\n",
        "\n"
      ],
      "metadata": {
        "colab": {
          "base_uri": "https://localhost:8080/"
        },
        "id": "o34kmmePUejo",
        "outputId": "6104f84f-2748-4b3c-d13d-09b14759cb57"
      },
      "execution_count": 20,
      "outputs": [
        {
          "output_type": "stream",
          "name": "stdout",
          "text": [
            "Taxa de crescimento média: 3.79%\n",
            "Tempo necessário para alcançar R$1.000.000: 12 meses\n"
          ]
        }
      ]
    }
  ]
}