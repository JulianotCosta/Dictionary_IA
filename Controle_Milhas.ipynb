{
  "nbformat": 4,
  "nbformat_minor": 0,
  "metadata": {
    "colab": {
      "provenance": [],
      "authorship_tag": "ABX9TyP8RzWVRIKp2gHXvUlo6Ooa",
      "include_colab_link": true
    },
    "kernelspec": {
      "name": "python3",
      "display_name": "Python 3"
    },
    "language_info": {
      "name": "python"
    }
  },
  "cells": [
    {
      "cell_type": "markdown",
      "metadata": {
        "id": "view-in-github",
        "colab_type": "text"
      },
      "source": [
        "<a href=\"https://colab.research.google.com/github/JulianotCosta/Dictionary_IA/blob/master/Controle_Milhas.ipynb\" target=\"_parent\"><img src=\"https://colab.research.google.com/assets/colab-badge.svg\" alt=\"Open In Colab\"/></a>"
      ]
    },
    {
      "cell_type": "code",
      "execution_count": null,
      "metadata": {
        "colab": {
          "base_uri": "https://localhost:8080/"
        },
        "id": "79Uo5--_LQSn",
        "outputId": "04a9ae61-0890-4664-e4c7-3bc5e3be87af"
      },
      "outputs": [
        {
          "output_type": "stream",
          "name": "stdout",
          "text": [
            "     ano  mes  quantidade  diferenca_mes_anterior\n",
            "0   2023    9      146209                     NaN\n",
            "1   2023   10      168598                 22389.0\n",
            "2   2023   11      234192                 65594.0\n",
            "3   2023   12      342889                108697.0\n",
            "4   2024    1      120581               -222308.0\n",
            "5   2024    2      131503                 10922.0\n",
            "6   2024    3      144936                 13433.0\n",
            "7   2024    4      163445                 18509.0\n",
            "8   2024    5      181114                 17669.0\n",
            "9   2024    6      198725                 17611.0\n",
            "10  2024    7      283287                 84562.0\n",
            "11  2024    8      295065                 11778.0\n",
            "12  2024    9      310733                 15668.0\n"
          ]
        }
      ],
      "source": [
        "import pandas as pd\n",
        "\n",
        "# Carregar o arquivo CSV em um DataFrame\n",
        "df = pd.read_csv(\"Controle Milhas.csv\", sep=';')\n",
        "\n",
        "# Converter as colunas 'mes' e 'ano' em inteiros, se necessário\n",
        "df['mes'] = df['mes'].astype(int)\n",
        "df['ano'] = df['ano'].astype(int)\n",
        "\n",
        "# Agrupar por ano e mês e somar as quantidades de milhas\n",
        "df_agrupado = df.groupby(['ano', 'mes']).agg({'quantidade': 'sum'}).reset_index()\n",
        "\n",
        "# Ordenar pelo ano e pelo mês (ordem crescente)\n",
        "df_agrupado = df_agrupado.sort_values(by=['ano', 'mes'])\n",
        "\n",
        "# Calcular a diferença em relação ao mês anterior\n",
        "df_agrupado['diferenca_mes_anterior'] = df_agrupado['quantidade'].diff()\n",
        "\n",
        "# Exibir o DataFrame resultante\n",
        "print(df_agrupado)\n"
      ]
    }
  ]
}