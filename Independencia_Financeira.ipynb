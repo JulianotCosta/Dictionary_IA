{
  "nbformat": 4,
  "nbformat_minor": 0,
  "metadata": {
    "colab": {
      "provenance": [],
      "authorship_tag": "ABX9TyNKCVAbXll5KYiD27Vbk5Bg",
      "include_colab_link": true
    },
    "kernelspec": {
      "name": "python3",
      "display_name": "Python 3"
    },
    "language_info": {
      "name": "python"
    }
  },
  "cells": [
    {
      "cell_type": "markdown",
      "metadata": {
        "id": "view-in-github",
        "colab_type": "text"
      },
      "source": [
        "<a href=\"https://colab.research.google.com/github/JulianotCosta/Dictionary_IA/blob/master/Independencia_Financeira.ipynb\" target=\"_parent\"><img src=\"https://colab.research.google.com/assets/colab-badge.svg\" alt=\"Open In Colab\"/></a>"
      ]
    },
    {
      "cell_type": "code",
      "execution_count": 2,
      "metadata": {
        "colab": {
          "base_uri": "https://localhost:8080/"
        },
        "id": "RhIVu8NwcVo8",
        "outputId": "4c7d9216-b291-4911-e5fa-d8e371a6c2ca"
      },
      "outputs": [
        {
          "output_type": "stream",
          "name": "stdout",
          "text": [
            "Você levará 2 anos e 8 meses para juntar 1 milhão de reais.\n"
          ]
        }
      ],
      "source": [
        "capital_inicial = 650_000  # Capital inicial em reais\n",
        "meta = 1_000_000  # Meta de 1 milhão de reais\n",
        "taxa_retorno_mensal = 0.0075  # Taxa de retorno mensal de 0,75%\n",
        "aporte_mensal = 5_000  # Aporte mensal em reais\n",
        "\n",
        "saldo_atual = capital_inicial\n",
        "meses = 0\n",
        "\n",
        "# Loop para calcular o tempo necessário para atingir a meta\n",
        "while saldo_atual < meta:\n",
        "    saldo_atual += saldo_atual * taxa_retorno_mensal + aporte_mensal\n",
        "    meses += 1\n",
        "\n",
        "# Mostrar o resultado\n",
        "anos = meses // 12\n",
        "meses_restantes = meses % 12\n",
        "\n",
        "print(f\"Você levará {anos} anos e {meses_restantes} meses para juntar 1 milhão de reais.\")\n",
        "\n"
      ]
    }
  ]
}