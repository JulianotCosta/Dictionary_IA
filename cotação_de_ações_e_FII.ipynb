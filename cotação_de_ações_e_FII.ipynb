{
  "nbformat": 4,
  "nbformat_minor": 0,
  "metadata": {
    "colab": {
      "provenance": [],
      "authorship_tag": "ABX9TyNKFM6XO9QKyzaH4tw+99O0",
      "include_colab_link": true
    },
    "kernelspec": {
      "name": "python3",
      "display_name": "Python 3"
    },
    "language_info": {
      "name": "python"
    }
  },
  "cells": [
    {
      "cell_type": "markdown",
      "metadata": {
        "id": "view-in-github",
        "colab_type": "text"
      },
      "source": [
        "<a href=\"https://colab.research.google.com/github/JulianotCosta/Dictionary_IA/blob/master/cota%C3%A7%C3%A3o_de_a%C3%A7%C3%B5es_e_FII.ipynb\" target=\"_parent\"><img src=\"https://colab.research.google.com/assets/colab-badge.svg\" alt=\"Open In Colab\"/></a>"
      ]
    },
    {
      "cell_type": "code",
      "execution_count": 14,
      "metadata": {
        "colab": {
          "base_uri": "https://localhost:8080/"
        },
        "id": "AQ9w21rn9coa",
        "outputId": "42ace174-efa4-4ead-ada1-eb6433186fd7"
      },
      "outputs": [
        {
          "output_type": "stream",
          "name": "stdout",
          "text": [
            "Requirement already satisfied: yfinance in /usr/local/lib/python3.10/dist-packages (0.2.41)\n",
            "Requirement already satisfied: pandas>=1.3.0 in /usr/local/lib/python3.10/dist-packages (from yfinance) (2.1.4)\n",
            "Requirement already satisfied: numpy>=1.16.5 in /usr/local/lib/python3.10/dist-packages (from yfinance) (1.26.4)\n",
            "Requirement already satisfied: requests>=2.31 in /usr/local/lib/python3.10/dist-packages (from yfinance) (2.32.3)\n",
            "Requirement already satisfied: multitasking>=0.0.7 in /usr/local/lib/python3.10/dist-packages (from yfinance) (0.0.11)\n",
            "Requirement already satisfied: lxml>=4.9.1 in /usr/local/lib/python3.10/dist-packages (from yfinance) (4.9.4)\n",
            "Requirement already satisfied: platformdirs>=2.0.0 in /usr/local/lib/python3.10/dist-packages (from yfinance) (4.2.2)\n",
            "Requirement already satisfied: pytz>=2022.5 in /usr/local/lib/python3.10/dist-packages (from yfinance) (2024.1)\n",
            "Requirement already satisfied: frozendict>=2.3.4 in /usr/local/lib/python3.10/dist-packages (from yfinance) (2.4.4)\n",
            "Requirement already satisfied: peewee>=3.16.2 in /usr/local/lib/python3.10/dist-packages (from yfinance) (3.17.6)\n",
            "Requirement already satisfied: beautifulsoup4>=4.11.1 in /usr/local/lib/python3.10/dist-packages (from yfinance) (4.12.3)\n",
            "Requirement already satisfied: html5lib>=1.1 in /usr/local/lib/python3.10/dist-packages (from yfinance) (1.1)\n",
            "Requirement already satisfied: soupsieve>1.2 in /usr/local/lib/python3.10/dist-packages (from beautifulsoup4>=4.11.1->yfinance) (2.6)\n",
            "Requirement already satisfied: six>=1.9 in /usr/local/lib/python3.10/dist-packages (from html5lib>=1.1->yfinance) (1.16.0)\n",
            "Requirement already satisfied: webencodings in /usr/local/lib/python3.10/dist-packages (from html5lib>=1.1->yfinance) (0.5.1)\n",
            "Requirement already satisfied: python-dateutil>=2.8.2 in /usr/local/lib/python3.10/dist-packages (from pandas>=1.3.0->yfinance) (2.8.2)\n",
            "Requirement already satisfied: tzdata>=2022.1 in /usr/local/lib/python3.10/dist-packages (from pandas>=1.3.0->yfinance) (2024.1)\n",
            "Requirement already satisfied: charset-normalizer<4,>=2 in /usr/local/lib/python3.10/dist-packages (from requests>=2.31->yfinance) (3.3.2)\n",
            "Requirement already satisfied: idna<4,>=2.5 in /usr/local/lib/python3.10/dist-packages (from requests>=2.31->yfinance) (3.7)\n",
            "Requirement already satisfied: urllib3<3,>=1.21.1 in /usr/local/lib/python3.10/dist-packages (from requests>=2.31->yfinance) (2.0.7)\n",
            "Requirement already satisfied: certifi>=2017.4.17 in /usr/local/lib/python3.10/dist-packages (from requests>=2.31->yfinance) (2024.7.4)\n"
          ]
        }
      ],
      "source": [
        "pip install yfinance"
      ]
    },
    {
      "cell_type": "code",
      "source": [
        "import yfinance as yf\n",
        "\n",
        "# Lista de ativos\n",
        "ativos = [\n",
        "    'XPML11.SA', 'MXRF11.SA', 'BCFF11.SA', 'BTLG11.SA', 'CPTS11.SA',\n",
        "    'HGCR11.SA', 'IRDM11.SA', 'SNAG11.SA', 'KFOF11.SA', 'KISU11.SA',\n",
        "    'TVRI11.SA', 'SNCI11.SA', 'VILG11.SA', 'VISC11.SA', 'VALE3.SA',\n",
        "    'TAEE11.SA', 'BBDC4.SA', 'BRKM5.SA', 'VBBR3.SA'\n",
        "]\n",
        "\n",
        "# Função para consultar os preços atuais\n",
        "def consultar_precos(ativos):\n",
        "    precos = {}\n",
        "    for ativo in ativos:\n",
        "        ticker = yf.Ticker(ativo)\n",
        "        preco_atual = ticker.history(period='1d')['Close'].iloc[-1]\n",
        "        precos[ativo] = preco_atual\n",
        "    return precos\n",
        "\n",
        "# Consultando os preços\n",
        "precos_ativos = consultar_precos(ativos)\n",
        "\n",
        "# Exibindo os resultados\n",
        "for ativo, preco in precos_ativos.items():\n",
        "    print(f'O preço atual de {ativo} é R$ {preco:.2f}')\n"
      ],
      "metadata": {
        "colab": {
          "base_uri": "https://localhost:8080/"
        },
        "id": "qHz_wRJd99IN",
        "outputId": "fe94bd18-6490-4b84-c964-c25e06db178f"
      },
      "execution_count": 15,
      "outputs": [
        {
          "output_type": "stream",
          "name": "stdout",
          "text": [
            "O preço atual de XPML11.SA é R$ 111.66\n",
            "O preço atual de MXRF11.SA é R$ 10.10\n",
            "O preço atual de BCFF11.SA é R$ 8.40\n",
            "O preço atual de BTLG11.SA é R$ 102.50\n",
            "O preço atual de CPTS11.SA é R$ 8.30\n",
            "O preço atual de HGCR11.SA é R$ 104.00\n",
            "O preço atual de IRDM11.SA é R$ 71.76\n",
            "O preço atual de SNAG11.SA é R$ 10.22\n",
            "O preço atual de KFOF11.SA é R$ 88.80\n",
            "O preço atual de KISU11.SA é R$ 8.18\n",
            "O preço atual de TVRI11.SA é R$ 102.65\n",
            "O preço atual de SNCI11.SA é R$ 96.40\n",
            "O preço atual de VILG11.SA é R$ 89.05\n",
            "O preço atual de VISC11.SA é R$ 112.60\n",
            "O preço atual de VALE3.SA é R$ 57.40\n",
            "O preço atual de TAEE11.SA é R$ 35.75\n",
            "O preço atual de BBDC4.SA é R$ 15.66\n",
            "O preço atual de BRKM5.SA é R$ 17.49\n",
            "O preço atual de VBBR3.SA é R$ 25.45\n"
          ]
        }
      ]
    },
    {
      "cell_type": "code",
      "source": [],
      "metadata": {
        "id": "gthUpDAX-ITF"
      },
      "execution_count": null,
      "outputs": []
    }
  ]
}