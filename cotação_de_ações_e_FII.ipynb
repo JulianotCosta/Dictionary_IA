{
  "nbformat": 4,
  "nbformat_minor": 0,
  "metadata": {
    "colab": {
      "provenance": [],
      "authorship_tag": "ABX9TyOIhMPxGCI1agu0mCuVuhOZ",
      "include_colab_link": true
    },
    "kernelspec": {
      "name": "python3",
      "display_name": "Python 3"
    },
    "language_info": {
      "name": "python"
    }
  },
  "cells": [
    {
      "cell_type": "markdown",
      "metadata": {
        "id": "view-in-github",
        "colab_type": "text"
      },
      "source": [
        "<a href=\"https://colab.research.google.com/github/JulianotCosta/Dictionary_IA/blob/master/cota%C3%A7%C3%A3o_de_a%C3%A7%C3%B5es_e_FII.ipynb\" target=\"_parent\"><img src=\"https://colab.research.google.com/assets/colab-badge.svg\" alt=\"Open In Colab\"/></a>"
      ]
    },
    {
      "cell_type": "code",
      "execution_count": 14,
      "metadata": {
        "colab": {
          "base_uri": "https://localhost:8080/"
        },
        "id": "AQ9w21rn9coa",
        "outputId": "42ace174-efa4-4ead-ada1-eb6433186fd7"
      },
      "outputs": [
        {
          "output_type": "stream",
          "name": "stdout",
          "text": [
            "Requirement already satisfied: yfinance in /usr/local/lib/python3.10/dist-packages (0.2.41)\n",
            "Requirement already satisfied: pandas>=1.3.0 in /usr/local/lib/python3.10/dist-packages (from yfinance) (2.1.4)\n",
            "Requirement already satisfied: numpy>=1.16.5 in /usr/local/lib/python3.10/dist-packages (from yfinance) (1.26.4)\n",
            "Requirement already satisfied: requests>=2.31 in /usr/local/lib/python3.10/dist-packages (from yfinance) (2.32.3)\n",
            "Requirement already satisfied: multitasking>=0.0.7 in /usr/local/lib/python3.10/dist-packages (from yfinance) (0.0.11)\n",
            "Requirement already satisfied: lxml>=4.9.1 in /usr/local/lib/python3.10/dist-packages (from yfinance) (4.9.4)\n",
            "Requirement already satisfied: platformdirs>=2.0.0 in /usr/local/lib/python3.10/dist-packages (from yfinance) (4.2.2)\n",
            "Requirement already satisfied: pytz>=2022.5 in /usr/local/lib/python3.10/dist-packages (from yfinance) (2024.1)\n",
            "Requirement already satisfied: frozendict>=2.3.4 in /usr/local/lib/python3.10/dist-packages (from yfinance) (2.4.4)\n",
            "Requirement already satisfied: peewee>=3.16.2 in /usr/local/lib/python3.10/dist-packages (from yfinance) (3.17.6)\n",
            "Requirement already satisfied: beautifulsoup4>=4.11.1 in /usr/local/lib/python3.10/dist-packages (from yfinance) (4.12.3)\n",
            "Requirement already satisfied: html5lib>=1.1 in /usr/local/lib/python3.10/dist-packages (from yfinance) (1.1)\n",
            "Requirement already satisfied: soupsieve>1.2 in /usr/local/lib/python3.10/dist-packages (from beautifulsoup4>=4.11.1->yfinance) (2.6)\n",
            "Requirement already satisfied: six>=1.9 in /usr/local/lib/python3.10/dist-packages (from html5lib>=1.1->yfinance) (1.16.0)\n",
            "Requirement already satisfied: webencodings in /usr/local/lib/python3.10/dist-packages (from html5lib>=1.1->yfinance) (0.5.1)\n",
            "Requirement already satisfied: python-dateutil>=2.8.2 in /usr/local/lib/python3.10/dist-packages (from pandas>=1.3.0->yfinance) (2.8.2)\n",
            "Requirement already satisfied: tzdata>=2022.1 in /usr/local/lib/python3.10/dist-packages (from pandas>=1.3.0->yfinance) (2024.1)\n",
            "Requirement already satisfied: charset-normalizer<4,>=2 in /usr/local/lib/python3.10/dist-packages (from requests>=2.31->yfinance) (3.3.2)\n",
            "Requirement already satisfied: idna<4,>=2.5 in /usr/local/lib/python3.10/dist-packages (from requests>=2.31->yfinance) (3.7)\n",
            "Requirement already satisfied: urllib3<3,>=1.21.1 in /usr/local/lib/python3.10/dist-packages (from requests>=2.31->yfinance) (2.0.7)\n",
            "Requirement already satisfied: certifi>=2017.4.17 in /usr/local/lib/python3.10/dist-packages (from requests>=2.31->yfinance) (2024.7.4)\n"
          ]
        }
      ],
      "source": [
        "pip install yfinance"
      ]
    },
    {
      "cell_type": "code",
      "source": [
        "import yfinance as yf\n",
        "import pandas as pd\n",
        "\n",
        "# Lista dos ativos\n",
        "ativos = [\n",
        "    \"XPML11.SA\", \"MXRF11.SA\", \"BCFF11.SA\", \"BTLG11.SA\", \"CPTS11.SA\",\n",
        "    \"HGCR11.SA\", \"IRDM11.SA\", \"SNAG11.SA\", \"KFOF11.SA\", \"KISU11.SA\",\n",
        "    \"TVRI11.SA\", \"SNCI11.SA\", \"VILG11.SA\", \"VISC11.SA\", \"XPCA11.SA\",\n",
        "    \"VALE3.SA\", \"TAEE11.SA\", \"BBDC4.SA\", \"BRKM5.SA\", \"VBBR3.SA\"\n",
        "]\n",
        "\n",
        "# Dicionário para armazenar os dados\n",
        "dados = {\"Ativo\": [], \"Preço Atual (R$)\": [], \"Preço Médio (R$)\": [], \"Comparação (%)\": []}\n",
        "\n",
        "# Dicionário com os preços médios\n",
        "precos_medios = {\n",
        "    \"XPML11\": 103.75, \"MXRF11\": 10.07, \"BCFF11\": 8.68, \"BTLG11\": 102.69, \"CPTS11\": 9.16,\n",
        "    \"HGCR11\": 106.00, \"IRDM11\": 86.08, \"SNAG11\": 10.07, \"KFOF11\": 93.34, \"KISU11\": 7.86,\n",
        "    \"TVRI11\": 103.70, \"SNCI11\": 99.47, \"VILG11\": 90.37, \"VISC11\": 101.31, \"XPCA11\": 9.26,\n",
        "    \"VALE3\": 71.62, \"TAEE11\": 37.05, \"BBDC4\": 13.69, \"BRKM5\": 24.26, \"VBBR3\": 17.44\n",
        "}\n",
        "\n",
        "# Loop para consultar os preços e calcular a comparação percentual\n",
        "for ativo in ativos:\n",
        "    ticker = yf.Ticker(ativo)\n",
        "    preco_atual = ticker.history(period='1d')['Close'].iloc[-1]\n",
        "    ativo_nome = ativo.split('.')[0]  # Remover \".SA\" do ticker\n",
        "    preco_medio = precos_medios[ativo_nome]\n",
        "    comparacao_percentual = (preco_atual / preco_medio) * 100  # Cálculo da comparação percentual\n",
        "\n",
        "    dados[\"Ativo\"].append(ativo_nome)\n",
        "    dados[\"Preço Atual (R$)\"].append(preco_atual)\n",
        "    dados[\"Preço Médio (R$)\"].append(preco_medio)\n",
        "    dados[\"Comparação (%)\"].append(comparacao_percentual)\n",
        "\n",
        "# Criar um DataFrame\n",
        "df = pd.DataFrame(dados)\n",
        "\n",
        "# Exibir a tabela\n",
        "print(df)\n"
      ],
      "metadata": {
        "colab": {
          "base_uri": "https://localhost:8080/"
        },
        "id": "qHz_wRJd99IN",
        "outputId": "ecba82c9-2c46-42fa-fd8f-f16fbecfad5e"
      },
      "execution_count": 18,
      "outputs": [
        {
          "output_type": "stream",
          "name": "stdout",
          "text": [
            "     Ativo  Preço Atual (R$)  Preço Médio (R$)  Comparação (%)\n",
            "0   XPML11        111.660004            103.75      107.624100\n",
            "1   MXRF11         10.100000             10.07      100.297918\n",
            "2   BCFF11          8.400000              8.67       96.885809\n",
            "3   BTLG11        102.500000            102.69       99.814977\n",
            "4   CPTS11          8.300000              9.16       90.611356\n",
            "5   HGCR11        104.000000            106.00       98.113208\n",
            "6   IRDM11         71.760002             86.08       83.364315\n",
            "7   SNAG11         10.220000             10.07      101.489576\n",
            "8   KFOF11         88.800003             93.34       95.136065\n",
            "9   KISU11          8.180000              7.86      104.071251\n",
            "10  TVRI11        102.650002            103.70       98.987465\n",
            "11  SNCI11         96.400002             99.47       96.913644\n",
            "12  VILG11         89.050003             90.37       98.539342\n",
            "13  VISC11        112.599998            101.31      111.144012\n",
            "14  XPCA11          8.740000              9.26       94.384447\n",
            "15   VALE3         57.400002             71.62       80.145213\n",
            "16  TAEE11         35.750000             37.05       96.491228\n",
            "17   BBDC4         15.660000             13.68      114.473683\n",
            "18   BRKM5         17.490000             24.58       71.155410\n",
            "19   VBBR3         25.450001             17.44      145.928903\n"
          ]
        }
      ]
    },
    {
      "cell_type": "markdown",
      "source": [
        "Calculo preço médio BCFF11"
      ],
      "metadata": {
        "id": "u5IL403yLMNR"
      }
    },
    {
      "cell_type": "code",
      "source": [
        "# Calculo preço médio BCFF11\n",
        "# Dados das compras\n",
        "compras = [\n",
        "    {\"valor_unitario\": 8.39, \"quantidade\": 56},\n",
        "    {\"valor_unitario\": 8.46, \"quantidade\": 40},\n",
        "    {\"valor_unitario\": 8.24, \"quantidade\": 48},\n",
        "    {\"valor_unitario\": 8.96, \"quantidade\": 24},\n",
        "    {\"valor_unitario\": 8.68, \"quantidade\": 80},\n",
        "    {\"valor_unitario\": 7.74, \"quantidade\": 5},\n",
        "    {\"valor_unitario\": 9.06, \"quantidade\": 22},\n",
        "    {\"valor_unitario\": 9.07, \"quantidade\": 60},\n",
        "    {\"valor_unitario\": 9.14, \"quantidade\": 50},\n",
        "    {\"valor_unitario\": 9.00, \"quantidade\": 35},\n",
        "    {\"valor_unitario\": 8.22, \"quantidade\": 50}\n",
        "]\n",
        "\n",
        "# Inicializar variáveis para soma dos valores e quantidades\n",
        "soma_valor_total = 0\n",
        "quantidade_total = 0\n",
        "\n",
        "# Calcular a soma do valor total e a quantidade total\n",
        "for compra in compras:\n",
        "    soma_valor_total += compra[\"valor_unitario\"] * compra[\"quantidade\"]\n",
        "    quantidade_total += compra[\"quantidade\"]\n",
        "\n",
        "# Calcular o preço médio\n",
        "preco_medio = soma_valor_total / quantidade_total\n",
        "\n",
        "# Exibir resultados\n",
        "print(f\"Quantidade total de ativos: {quantidade_total}\")\n",
        "print(f\"Preço médio dos ativos: R$ {preco_medio:.2f}\")\n"
      ],
      "metadata": {
        "colab": {
          "base_uri": "https://localhost:8080/"
        },
        "id": "nX3SWnBfJmFs",
        "outputId": "d58bb160-e48b-4833-d1bc-9568b004b64e"
      },
      "execution_count": 21,
      "outputs": [
        {
          "output_type": "stream",
          "name": "stdout",
          "text": [
            "Quantidade total de ativos: 470\n",
            "Preço médio dos ativos: R$ 8.68\n"
          ]
        }
      ]
    },
    {
      "cell_type": "markdown",
      "source": [
        "\n",
        "\n",
        "Calculo preço médio XPML11\n",
        "\n",
        "\n",
        "```\n",
        "# This is formatted as code\n",
        "```\n",
        "\n",
        "\n",
        "\n"
      ],
      "metadata": {
        "id": "-T7Z_k6FKmhJ"
      }
    },
    {
      "cell_type": "code",
      "source": [
        "# Calculo preço médio XPML11\n",
        "# Dados das compras\n",
        "compras = [\n",
        "    {\"valor_unitario\": 103.95, \"quantidade\": 2},\n",
        "    {\"valor_unitario\": 103.65, \"quantidade\": 4}\n",
        "]\n",
        "\n",
        "# Inicializar variáveis para soma dos valores e quantidades\n",
        "soma_valor_total = 0\n",
        "quantidade_total = 0\n",
        "\n",
        "# Calcular a soma do valor total e a quantidade total\n",
        "for compra in compras:\n",
        "    soma_valor_total += compra[\"valor_unitario\"] * compra[\"quantidade\"]\n",
        "    quantidade_total += compra[\"quantidade\"]\n",
        "\n",
        "# Calcular o preço médio\n",
        "preco_medio = soma_valor_total / quantidade_total\n",
        "\n",
        "# Exibir resultados\n",
        "print(f\"Quantidade total de ativos: {quantidade_total}\")\n",
        "print(f\"Preço médio dos ativos: R$ {preco_medio:.2f}\")\n"
      ],
      "metadata": {
        "colab": {
          "base_uri": "https://localhost:8080/"
        },
        "id": "rPrc5gF-Kl3y",
        "outputId": "f7be7efd-0887-4f64-ef38-e1703cc7d21d"
      },
      "execution_count": 24,
      "outputs": [
        {
          "output_type": "stream",
          "name": "stdout",
          "text": [
            "Quantidade total de ativos: 6\n",
            "Preço médio dos ativos: R$ 103.75\n"
          ]
        }
      ]
    },
    {
      "cell_type": "markdown",
      "source": [
        "Calculo preço médio BBDC4\n"
      ],
      "metadata": {
        "id": "kX_yQu00LbyA"
      }
    },
    {
      "cell_type": "code",
      "source": [
        "# Dados das compras\n",
        "compras = [\n",
        "    {\"valor_unitario\": 15.12, \"quantidade\": 40},\n",
        "    {\"valor_unitario\": 14.91, \"quantidade\": 20},\n",
        "    {\"valor_unitario\": 15.32, \"quantidade\": 20},\n",
        "    {\"valor_unitario\": 13.64, \"quantidade\": 100},\n",
        "    {\"valor_unitario\": 12.93, \"quantidade\": 30},\n",
        "    {\"valor_unitario\": 13.29, \"quantidade\": 20},\n",
        "    {\"valor_unitario\": 15.29, \"quantidade\": 43},\n",
        "    {\"valor_unitario\": 13.24, \"quantidade\": 20},\n",
        "    {\"valor_unitario\": 13.46, \"quantidade\": 20},\n",
        "    {\"valor_unitario\": 13.99, \"quantidade\": 30},\n",
        "    {\"valor_unitario\": 13.72, \"quantidade\": 14},\n",
        "    {\"valor_unitario\": 12.40, \"quantidade\": 10},\n",
        "    {\"valor_unitario\": 12.37, \"quantidade\": 100}\n",
        "]\n",
        "\n",
        "# Inicializar variáveis para soma dos valores e quantidades\n",
        "soma_valor_total = 0\n",
        "quantidade_total = 0\n",
        "\n",
        "# Calcular a soma do valor total e a quantidade total\n",
        "for compra in compras:\n",
        "    soma_valor_total += compra[\"valor_unitario\"] * compra[\"quantidade\"]\n",
        "    quantidade_total += compra[\"quantidade\"]\n",
        "\n",
        "# Calcular o preço médio\n",
        "preco_medio = soma_valor_total / quantidade_total\n",
        "\n",
        "# Exibir resultados\n",
        "print(f\"Quantidade total de ativos: {quantidade_total}\")\n",
        "print(f\"Preço médio dos ativos: R$ {preco_medio:.2f}\")\n"
      ],
      "metadata": {
        "colab": {
          "base_uri": "https://localhost:8080/"
        },
        "id": "ZLebSSWfLhA7",
        "outputId": "43c357d7-1ff3-444c-e21d-84f9f3ddc1b7"
      },
      "execution_count": 26,
      "outputs": [
        {
          "output_type": "stream",
          "name": "stdout",
          "text": [
            "Quantidade total de ativos: 467\n",
            "Preço médio dos ativos: R$ 13.69\n"
          ]
        }
      ]
    },
    {
      "cell_type": "markdown",
      "source": [
        "Calculo preço médio BRKM5"
      ],
      "metadata": {
        "id": "4NNVdWJeMXKV"
      }
    },
    {
      "cell_type": "code",
      "source": [
        "# Dados das compras\n",
        "compras = [\n",
        "    {\"valor_unitario\": 32.16, \"quantidade\": 10},\n",
        "    {\"valor_unitario\": 33.41, \"quantidade\": 10},\n",
        "    {\"valor_unitario\": 29.52, \"quantidade\": 10},\n",
        "    {\"valor_unitario\": 24.16, \"quantidade\": 10},\n",
        "    {\"valor_unitario\": 22.14, \"quantidade\": 30},\n",
        "    {\"valor_unitario\": 18.98, \"quantidade\": 30}\n",
        "]\n",
        "\n",
        "# Inicializar variáveis para soma dos valores e quantidades\n",
        "soma_valor_total = 0\n",
        "quantidade_total = 0\n",
        "\n",
        "# Calcular a soma do valor total e a quantidade total\n",
        "for compra in compras:\n",
        "    soma_valor_total += compra[\"valor_unitario\"] * compra[\"quantidade\"]\n",
        "    quantidade_total += compra[\"quantidade\"]\n",
        "\n",
        "# Calcular o preço médio\n",
        "preco_medio = soma_valor_total / quantidade_total\n",
        "\n",
        "# Exibir resultados\n",
        "print(f\"Quantidade total de ativos: {quantidade_total}\")\n",
        "print(f\"Preço médio dos ativos: R$ {preco_medio:.2f}\")"
      ],
      "metadata": {
        "colab": {
          "base_uri": "https://localhost:8080/"
        },
        "id": "KjTs40lrMhYd",
        "outputId": "c71b8f93-6657-4879-aac4-22769e950460"
      },
      "execution_count": 27,
      "outputs": [
        {
          "output_type": "stream",
          "name": "stdout",
          "text": [
            "Quantidade total de ativos: 100\n",
            "Preço médio dos ativos: R$ 24.26\n"
          ]
        }
      ]
    },
    {
      "cell_type": "markdown",
      "source": [
        "Dividendos dos ultimos 12 meses do XPML11"
      ],
      "metadata": {
        "id": "ZAoqc8kCbRH_"
      }
    },
    {
      "cell_type": "code",
      "source": [
        "# Dados dos dividendos\n",
        "dividendos = [\n",
        "    {\"mes\": 8, \"ano\": 2024, \"valor\": 49.68},\n",
        "    {\"mes\": 7, \"ano\": 2024, \"valor\": 49.68},\n",
        "    {\"mes\": 6, \"ano\": 2024, \"valor\": 49.68},\n",
        "    {\"mes\": 5, \"ano\": 2024, \"valor\": 49.68},\n",
        "    {\"mes\": 4, \"ano\": 2024, \"valor\": 49.14},\n",
        "    {\"mes\": 3, \"ano\": 2024, \"valor\": 48.60},\n",
        "    {\"mes\": 2, \"ano\": 2024, \"valor\": 48.60},\n",
        "    {\"mes\": 1, \"ano\": 2024, \"valor\": 49.68},\n",
        "    {\"mes\": 12, \"ano\": 2023, \"valor\": 48.60},\n",
        "    {\"mes\": 11, \"ano\": 2023, \"valor\": 45.90},\n",
        "    {\"mes\": 10, \"ano\": 2023, \"valor\": 45.90},\n",
        "    {\"mes\": 9, \"ano\": 2023, \"valor\": 45.90}\n",
        "]\n",
        "\n",
        "# Calcula o valor total dos dividendos\n",
        "valor_total = sum(dividendo[\"valor\"] for dividendo in dividendos)\n",
        "\n",
        "print(f\"Valor total dos dividendos recebidos nos últimos 12 meses: R$ {valor_total:.2f}\")"
      ],
      "metadata": {
        "colab": {
          "base_uri": "https://localhost:8080/"
        },
        "id": "OGpWFj-cbNTC",
        "outputId": "edb93c98-7ad8-4fed-cb8f-81623ad15e2f"
      },
      "execution_count": 28,
      "outputs": [
        {
          "output_type": "stream",
          "name": "stdout",
          "text": [
            "Valor total dos dividendos recebidos nos últimos 12 meses: R$ 581.04\n"
          ]
        }
      ]
    },
    {
      "cell_type": "code",
      "source": [
        "# Dados da tabela em formato de array chave-valor\n",
        "dividendos = [\n",
        "    {\"Mes\": 12, \"Ano\": 2022, \"Ticker\": \"BTLG11\", \"Valor\": 31.82},\n",
        "    {\"Mes\": 12, \"Ano\": 2022, \"Ticker\": \"VBBR3\", \"Valor\": 22.24},\n",
        "    {\"Mes\": 12, \"Ano\": 2022, \"Ticker\": \"XPML11\", \"Valor\": 41.58},\n",
        "    {\"Mes\": 12, \"Ano\": 2022, \"Ticker\": \"SNCI11\", \"Valor\": 21.00},\n",
        "    {\"Mes\": 12, \"Ano\": 2022, \"Ticker\": \"SNAG11\", \"Valor\": 12.00},\n",
        "    {\"Mes\": 12, \"Ano\": 2022, \"Ticker\": \"CYRE3\", \"Valor\": 67.77},\n",
        "    {\"Mes\": 12, \"Ano\": 2022, \"Ticker\": \"XPCA11\", \"Valor\": 28.80},\n",
        "    {\"Mes\": 12, \"Ano\": 2022, \"Ticker\": \"VISC11\", \"Valor\": 15.96},\n",
        "    {\"Mes\": 12, \"Ano\": 2022, \"Ticker\": \"VILG11\", \"Valor\": 14.40},\n",
        "    {\"Mes\": 12, \"Ano\": 2022, \"Ticker\": \"VILG11\", \"Valor\": 85.60},\n",
        "    {\"Mes\": 12, \"Ano\": 2022, \"Ticker\": \"KNRI11\", \"Valor\": 47.32},\n",
        "    {\"Mes\": 12, \"Ano\": 2022, \"Ticker\": \"KISU11\", \"Valor\": 15.00},\n",
        "    {\"Mes\": 12, \"Ano\": 2022, \"Ticker\": \"HGRU11\", \"Valor\": 10.66},\n",
        "    {\"Mes\": 12, \"Ano\": 2022, \"Ticker\": \"HGCR11\", \"Valor\": 12.00},\n",
        "    {\"Mes\": 12, \"Ano\": 2022, \"Ticker\": \"BCFF11\", \"Valor\": 54.88},\n",
        "    {\"Mes\": 12, \"Ano\": 2022, \"Ticker\": \"BCFF11\", \"Valor\": 28.52},\n",
        "    {\"Mes\": 12, \"Ano\": 2022, \"Ticker\": \"EGIE3\", \"Valor\": 95.92},\n",
        "    {\"Mes\": 12, \"Ano\": 2022, \"Ticker\": \"TAEE11\", \"Valor\": 213.50},\n",
        "    {\"Mes\": 1, \"Ano\": 2023, \"Ticker\": \"CPTS11\", \"Valor\": 23.20},\n",
        "    {\"Mes\": 1, \"Ano\": 2023, \"Ticker\": \"BTLG11\", \"Valor\": 31.82},\n",
        "    {\"Mes\": 1, \"Ano\": 2023, \"Ticker\": \"BBDC4\", \"Valor\": 1.29},\n",
        "    {\"Mes\": 1, \"Ano\": 2023, \"Ticker\": \"SNAG11\", \"Valor\": 12.00},\n",
        "    {\"Mes\": 1, \"Ano\": 2023, \"Ticker\": \"XPCA11\", \"Valor\": 36.40},\n",
        "    {\"Mes\": 1, \"Ano\": 2023, \"Ticker\": \"BBPO11\", \"Valor\": 28.52},\n",
        "    {\"Mes\": 1, \"Ano\": 2023, \"Ticker\": \"BCFF11\", \"Valor\": 54.88},\n",
        "    {\"Mes\": 1, \"Ano\": 2023, \"Ticker\": \"HGRU11\", \"Valor\": 12.00},\n",
        "    {\"Mes\": 1, \"Ano\": 2023, \"Ticker\": \"HGRU11\", \"Valor\": 26.00},\n",
        "    {\"Mes\": 1, \"Ano\": 2023, \"Ticker\": \"IRDM11\", \"Valor\": 51.98},\n",
        "    {\"Mes\": 1, \"Ano\": 2023, \"Ticker\": \"KISU11\", \"Valor\": 18.00},\n",
        "    {\"Mes\": 1, \"Ano\": 2023, \"Ticker\": \"KNRI11\", \"Valor\": 52.00},\n",
        "    {\"Mes\": 1, \"Ano\": 2023, \"Ticker\": \"MXRF11\", \"Valor\": 114.00},\n",
        "    {\"Mes\": 1, \"Ano\": 2023, \"Ticker\": \"SNCI11\", \"Valor\": 21.00},\n",
        "    {\"Mes\": 1, \"Ano\": 2023, \"Ticker\": \"VILG11\", \"Valor\": 14.00},\n",
        "    {\"Mes\": 1, \"Ano\": 2023, \"Ticker\": \"VISC11\", \"Valor\": 17.85},\n",
        "    {\"Mes\": 1, \"Ano\": 2023, \"Ticker\": \"XPML11\", \"Valor\": 48.60},\n",
        "    {\"Mes\": 1, \"Ano\": 2023, \"Ticker\": \"ITSA4\", \"Valor\": 9.75},\n",
        "    {\"Mes\": 1, \"Ano\": 2023, \"Ticker\": \"TAEE11\", \"Valor\": 380.55},\n",
        "    {\"Mes\": 2, \"Ano\": 2023, \"Ticker\": \"CPTS11\", \"Valor\": 34.50},\n",
        "    {\"Mes\": 2, \"Ano\": 2023, \"Ticker\": \"BTLG11\", \"Valor\": 31.82},\n",
        "    {\"Mes\": 2, \"Ano\": 2023, \"Ticker\": \"BBDC4\", \"Valor\": 1.53},\n",
        "    {\"Mes\": 2, \"Ano\": 2023, \"Ticker\": \"SNAG11\", \"Valor\": 12.00},\n",
        "    {\"Mes\": 2, \"Ano\": 2023, \"Ticker\": \"XPCA11\", \"Valor\": 37.05},\n",
        "    {\"Mes\": 2, \"Ano\": 2023, \"Ticker\": \"BBPO11\", \"Valor\": 27.90},\n",
        "    {\"Mes\": 2, \"Ano\": 2023, \"Ticker\": \"BCFF11\", \"Valor\": 54.88},\n",
        "    {\"Mes\": 2, \"Ano\": 2023, \"Ticker\": \"HGRU11\", \"Valor\": 12.00},\n",
        "    {\"Mes\": 2, \"Ano\": 2023, \"Ticker\": \"HGRU11\", \"Valor\": 10.66},\n",
        "    {\"Mes\": 2, \"Ano\": 2023, \"Ticker\": \"IRDM11\", \"Valor\": 56.87},\n",
        "    {\"Mes\": 2, \"Ano\": 2023, \"Ticker\": \"KISU11\", \"Valor\": 15.00},\n",
        "    {\"Mes\": 2, \"Ano\": 2023, \"Ticker\": \"KNRI11\", \"Valor\": 47.32},\n",
        "    {\"Mes\": 2, \"Ano\": 2023, \"Ticker\": \"MXRF11\", \"Valor\": 125.40},\n",
        "    {\"Mes\": 2, \"Ano\": 2023, \"Ticker\": \"SNCI11\", \"Valor\": 21.00},\n",
        "    {\"Mes\": 2, \"Ano\": 2023, \"Ticker\": \"VILG11\", \"Valor\": 13.40},\n",
        "    {\"Mes\": 2, \"Ano\": 2023, \"Ticker\": \"VISC11\", \"Valor\": 17.22},\n",
        "    {\"Mes\": 2, \"Ano\": 2023, \"Ticker\": \"XPML11\", \"Valor\": 41.58},\n",
        "    {\"Mes\": 2, \"Ano\": 2023, \"Ticker\": \"VBBR3\", \"Valor\": 36.48},\n",
        "    {\"Mes\": 3, \"Ano\": 2023, \"Ticker\": \"CPTS11\", \"Valor\": 34.96},\n",
        "    {\"Mes\": 3, \"Ano\": 2023, \"Ticker\": \"BTLG11\", \"Valor\": 31.82},\n",
        "    {\"Mes\": 3, \"Ano\": 2023, \"Ticker\": \"BBDC4\", \"Valor\": 50.26},\n",
        "    {\"Mes\": 3, \"Ano\": 2023, \"Ticker\": \"SNAG11\", \"Valor\": 10.60},\n",
        "    {\"Mes\": 3, \"Ano\": 2023, \"Ticker\": \"XPCA11\", \"Valor\": 43.55},\n",
        "    {\"Mes\": 3, \"Ano\": 2023, \"Ticker\": \"BBPO11\", \"Valor\": 27.90},\n",
        "    {\"Mes\": 3, \"Ano\": 2023, \"Ticker\": \"BCFF11\", \"Valor\": 54.88},\n",
        "    {\"Mes\": 3, \"Ano\": 2023, \"Ticker\": \"HGRU11\", \"Valor\": 12.00},\n",
        "    {\"Mes\": 3, \"Ano\": 2023, \"Ticker\": \"HGRU11\", \"Valor\": 11.05},\n",
        "    {\"Mes\": 3, \"Ano\": 2023, \"Ticker\": \"IRDM11\", \"Valor\": 55.66},\n",
        "    {\"Mes\": 3, \"Ano\": 2023, \"Ticker\": \"KISU11\", \"Valor\": 15.00},\n",
        "]\n",
        "\n",
        "# Calculando o valor total dos dividendos recebidos de cada ticker\n",
        "total_dividendos = {}\n",
        "\n",
        "for registro in dividendos:\n",
        "    ticker = registro[\"Ticker\"]\n",
        "    valor = registro[\"Valor\"]\n",
        "\n",
        "    if ticker in total_dividendos:\n",
        "        total_dividendos[ticker] += valor\n",
        "    else:\n",
        "        total_dividendos[ticker] = valor\n",
        "\n",
        "# Exibindo o valor total dos dividendos de cada ticker\n",
        "for ticker, total in total_dividendos.items():\n",
        "    print(f\"{ticker}: R$ {total:.2f}\")\n"
      ],
      "metadata": {
        "colab": {
          "base_uri": "https://localhost:8080/"
        },
        "id": "CotyUk4kcwF_",
        "outputId": "729d4694-4247-46b4-da89-622736aff2aa"
      },
      "execution_count": 31,
      "outputs": [
        {
          "output_type": "stream",
          "name": "stdout",
          "text": [
            "BTLG11: R$ 127.28\n",
            "VBBR3: R$ 58.72\n",
            "XPML11: R$ 131.76\n",
            "SNCI11: R$ 63.00\n",
            "SNAG11: R$ 46.60\n",
            "CYRE3: R$ 67.77\n",
            "XPCA11: R$ 145.80\n",
            "VISC11: R$ 51.03\n",
            "VILG11: R$ 127.40\n",
            "KNRI11: R$ 146.64\n",
            "KISU11: R$ 63.00\n",
            "HGRU11: R$ 94.37\n",
            "HGCR11: R$ 12.00\n",
            "BCFF11: R$ 248.04\n",
            "EGIE3: R$ 95.92\n",
            "TAEE11: R$ 594.05\n",
            "CPTS11: R$ 92.66\n",
            "BBDC4: R$ 53.08\n",
            "BBPO11: R$ 84.32\n",
            "IRDM11: R$ 164.51\n",
            "MXRF11: R$ 239.40\n",
            "ITSA4: R$ 9.75\n"
          ]
        }
      ]
    },
    {
      "cell_type": "code",
      "source": [
        "\n",
        "import pandas as pd\n",
        "\n",
        "# Lê o arquivo CSV\n",
        "arquivo_csv = '/content/Dividendos.csv'\n",
        "df = pd.read_csv(arquivo_csv, delimiter=';')\n",
        "\n",
        "# Verifica se as colunas estão corretamente nomeadas\n",
        "expected_columns = {'Mes', 'Ano', 'Ticker', 'Valor'}\n",
        "if not expected_columns.issubset(df.columns):\n",
        "    raise ValueError(\"O arquivo CSV não contém as colunas esperadas: Mes, Ano, Ticker, Valor\")\n",
        "\n",
        "# Converte a coluna 'Valor' para numérico, removendo caracteres não numéricos (por exemplo, \"R$\")\n",
        "df['Valor'] = df['Valor'].replace({'R\\$': '', ',': '.'}, regex=True).astype(float)\n",
        "\n",
        "# Calcula o valor total dos dividendos recebidos por cada ticker\n",
        "total_dividendos = df.groupby('Ticker')['Valor'].sum().reset_index()\n",
        "\n",
        "# Renomeia a coluna para 'Total' para melhor legibilidade\n",
        "total_dividendos.rename(columns={'Valor': 'Total'}, inplace=True)\n",
        "\n",
        "# Exibe o valor total dos dividendos de cada ticker\n",
        "print(total_dividendos)\n"
      ],
      "metadata": {
        "colab": {
          "base_uri": "https://localhost:8080/"
        },
        "id": "FqVyGM4XgZLb",
        "outputId": "ebe11fc1-ad26-4c7f-8c0b-2ce7b69a9508"
      },
      "execution_count": 37,
      "outputs": [
        {
          "output_type": "stream",
          "name": "stdout",
          "text": [
            "    Ticker    Total\n",
            "0    BBDC4   345.66\n",
            "1   BBPO11   279.62\n",
            "2   BCFF11  1306.29\n",
            "3   BTLG11   683.27\n",
            "4    CMIG4    54.81\n",
            "5    CPEL6    70.27\n",
            "6   CPTS11   834.99\n",
            "7    CYRE3   129.12\n",
            "8    EGIE3   114.68\n",
            "9   HGCR11    88.50\n",
            "10  HGRU11   217.47\n",
            "11  IRDM11  1377.97\n",
            "12   ITSA4   632.33\n",
            "13  KFOF11   108.09\n",
            "14  KISU11   401.88\n",
            "15  KNRI11   294.84\n",
            "16  MXRF11  2529.58\n",
            "17  SNAG11   371.95\n",
            "18  SNCI11   448.90\n",
            "19  TAEE11  1605.78\n",
            "20  TVRI11   295.43\n",
            "21   VALE3   681.18\n",
            "22   VBBR3   175.05\n",
            "23  VILG11   426.40\n",
            "24  VISC11   397.53\n",
            "25  XPCA11  1011.36\n",
            "26  XPML11   975.78\n"
          ]
        }
      ]
    },
    {
      "cell_type": "code",
      "source": [
        "import pandas as pd\n",
        "from datetime import datetime, timedelta\n",
        "\n",
        "# Lê o arquivo CSV\n",
        "arquivo_csv = '/content/Dividendos.csv'\n",
        "df = pd.read_csv(arquivo_csv, delimiter=';')\n",
        "\n",
        "# Verifica se as colunas estão corretamente nomeadas\n",
        "expected_columns = {'Mes', 'Ano', 'Ticker', 'Valor'}\n",
        "if not expected_columns.issubset(df.columns):\n",
        "    raise ValueError(\"O arquivo CSV não contém as colunas esperadas: Mes, Ano, Ticker, Valor\")\n",
        "\n",
        "# Converte a coluna 'Valor' para numérico, removendo caracteres não numéricos (por exemplo, \"R$\")\n",
        "df['Valor'] = df['Valor'].replace({'R\\$': '', ',': '.'}, regex=True).astype(float)\n",
        "\n",
        "# Adiciona uma coluna 'Data' para facilitar a filtragem\n",
        "df['Data'] = pd.to_datetime(df[['Ano', 'Mes']].astype(str).apply('-'.join, axis=1) + '-01')\n",
        "\n",
        "# Define a data de referência (hoje) e calcula a data de início dos últimos 12 meses\n",
        "data_referencia = datetime.now()\n",
        "data_inicio = data_referencia - timedelta(days=365)\n",
        "\n",
        "# Filtra os dados para os últimos 12 meses\n",
        "df_filtrado = df[df['Data'] >= data_inicio]\n",
        "\n",
        "# Calcula o valor total dos dividendos recebidos nos últimos 12 meses por cada ticker\n",
        "total_dividendos_ultimos_12_meses = df_filtrado.groupby('Ticker')['Valor'].sum().reset_index()\n",
        "\n",
        "# Renomeia a coluna para 'Total' para melhor legibilidade\n",
        "total_dividendos_ultimos_12_meses.rename(columns={'Valor': 'Total'}, inplace=True)\n",
        "\n",
        "# Exibe o valor total dos dividendos recebidos nos últimos 12 meses de cada ticker\n",
        "print(total_dividendos_ultimos_12_meses)"
      ],
      "metadata": {
        "colab": {
          "base_uri": "https://localhost:8080/"
        },
        "id": "Mi_13VbcgY9o",
        "outputId": "3604e9fb-669b-4234-9b76-8a609c596871"
      },
      "execution_count": 40,
      "outputs": [
        {
          "output_type": "stream",
          "name": "stdout",
          "text": [
            "    Ticker    Total\n",
            "0    BBDC4   231.83\n",
            "1   BBPO11    55.80\n",
            "2   BCFF11   769.85\n",
            "3   BTLG11   395.17\n",
            "4    CMIG4    31.50\n",
            "5   CPTS11   548.33\n",
            "6   HGCR11    76.50\n",
            "7   HGRU11    42.00\n",
            "8   IRDM11   886.44\n",
            "9    ITSA4   465.34\n",
            "10  KFOF11   108.09\n",
            "11  KISU11   245.93\n",
            "12  MXRF11  1469.38\n",
            "13  SNAG11   266.75\n",
            "14  SNCI11   252.55\n",
            "15  TAEE11   757.73\n",
            "16  TVRI11   295.43\n",
            "17   VALE3   442.46\n",
            "18   VBBR3   116.33\n",
            "19  VILG11   204.20\n",
            "20  VISC11   242.34\n",
            "21  XPCA11   657.86\n",
            "22  XPML11   581.04\n"
          ]
        }
      ]
    }
  ]
}