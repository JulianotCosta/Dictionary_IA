{
  "nbformat": 4,
  "nbformat_minor": 0,
  "metadata": {
    "colab": {
      "provenance": [],
      "authorship_tag": "ABX9TyO6WPVFG7ZJ9Ka/7X3zg/+E",
      "include_colab_link": true
    },
    "kernelspec": {
      "name": "python3",
      "display_name": "Python 3"
    },
    "language_info": {
      "name": "python"
    }
  },
  "cells": [
    {
      "cell_type": "markdown",
      "metadata": {
        "id": "view-in-github",
        "colab_type": "text"
      },
      "source": [
        "<a href=\"https://colab.research.google.com/github/JulianotCosta/Dictionary_IA/blob/master/cota%C3%A7%C3%A3o_de_a%C3%A7%C3%B5es_e_FII.ipynb\" target=\"_parent\"><img src=\"https://colab.research.google.com/assets/colab-badge.svg\" alt=\"Open In Colab\"/></a>"
      ]
    },
    {
      "cell_type": "code",
      "execution_count": 14,
      "metadata": {
        "colab": {
          "base_uri": "https://localhost:8080/"
        },
        "id": "AQ9w21rn9coa",
        "outputId": "42ace174-efa4-4ead-ada1-eb6433186fd7"
      },
      "outputs": [
        {
          "output_type": "stream",
          "name": "stdout",
          "text": [
            "Requirement already satisfied: yfinance in /usr/local/lib/python3.10/dist-packages (0.2.41)\n",
            "Requirement already satisfied: pandas>=1.3.0 in /usr/local/lib/python3.10/dist-packages (from yfinance) (2.1.4)\n",
            "Requirement already satisfied: numpy>=1.16.5 in /usr/local/lib/python3.10/dist-packages (from yfinance) (1.26.4)\n",
            "Requirement already satisfied: requests>=2.31 in /usr/local/lib/python3.10/dist-packages (from yfinance) (2.32.3)\n",
            "Requirement already satisfied: multitasking>=0.0.7 in /usr/local/lib/python3.10/dist-packages (from yfinance) (0.0.11)\n",
            "Requirement already satisfied: lxml>=4.9.1 in /usr/local/lib/python3.10/dist-packages (from yfinance) (4.9.4)\n",
            "Requirement already satisfied: platformdirs>=2.0.0 in /usr/local/lib/python3.10/dist-packages (from yfinance) (4.2.2)\n",
            "Requirement already satisfied: pytz>=2022.5 in /usr/local/lib/python3.10/dist-packages (from yfinance) (2024.1)\n",
            "Requirement already satisfied: frozendict>=2.3.4 in /usr/local/lib/python3.10/dist-packages (from yfinance) (2.4.4)\n",
            "Requirement already satisfied: peewee>=3.16.2 in /usr/local/lib/python3.10/dist-packages (from yfinance) (3.17.6)\n",
            "Requirement already satisfied: beautifulsoup4>=4.11.1 in /usr/local/lib/python3.10/dist-packages (from yfinance) (4.12.3)\n",
            "Requirement already satisfied: html5lib>=1.1 in /usr/local/lib/python3.10/dist-packages (from yfinance) (1.1)\n",
            "Requirement already satisfied: soupsieve>1.2 in /usr/local/lib/python3.10/dist-packages (from beautifulsoup4>=4.11.1->yfinance) (2.6)\n",
            "Requirement already satisfied: six>=1.9 in /usr/local/lib/python3.10/dist-packages (from html5lib>=1.1->yfinance) (1.16.0)\n",
            "Requirement already satisfied: webencodings in /usr/local/lib/python3.10/dist-packages (from html5lib>=1.1->yfinance) (0.5.1)\n",
            "Requirement already satisfied: python-dateutil>=2.8.2 in /usr/local/lib/python3.10/dist-packages (from pandas>=1.3.0->yfinance) (2.8.2)\n",
            "Requirement already satisfied: tzdata>=2022.1 in /usr/local/lib/python3.10/dist-packages (from pandas>=1.3.0->yfinance) (2024.1)\n",
            "Requirement already satisfied: charset-normalizer<4,>=2 in /usr/local/lib/python3.10/dist-packages (from requests>=2.31->yfinance) (3.3.2)\n",
            "Requirement already satisfied: idna<4,>=2.5 in /usr/local/lib/python3.10/dist-packages (from requests>=2.31->yfinance) (3.7)\n",
            "Requirement already satisfied: urllib3<3,>=1.21.1 in /usr/local/lib/python3.10/dist-packages (from requests>=2.31->yfinance) (2.0.7)\n",
            "Requirement already satisfied: certifi>=2017.4.17 in /usr/local/lib/python3.10/dist-packages (from requests>=2.31->yfinance) (2024.7.4)\n"
          ]
        }
      ],
      "source": [
        "pip install yfinance"
      ]
    },
    {
      "cell_type": "code",
      "source": [
        "import yfinance as yf\n",
        "import pandas as pd\n",
        "\n",
        "# Lista dos ativos\n",
        "ativos = [\n",
        "    \"XPML11.SA\", \"MXRF11.SA\", \"BCFF11.SA\", \"BTLG11.SA\", \"CPTS11.SA\",\n",
        "    \"HGCR11.SA\", \"IRDM11.SA\", \"SNAG11.SA\", \"KFOF11.SA\", \"KISU11.SA\",\n",
        "    \"TVRI11.SA\", \"SNCI11.SA\", \"VILG11.SA\", \"VISC11.SA\", \"XPCA11.SA\",\n",
        "    \"VALE3.SA\", \"TAEE11.SA\", \"BBDC4.SA\", \"BRKM5.SA\", \"VBBR3.SA\"\n",
        "]\n",
        "\n",
        "# Dicionário para armazenar os dados\n",
        "dados = {\"Ativo\": [], \"Preço Atual (R$)\": [], \"Preço Médio (R$)\": [], \"Comparação (%)\": []}\n",
        "\n",
        "# Dicionário com os preços médios\n",
        "precos_medios = {\n",
        "    \"XPML11\": 103.75, \"MXRF11\": 10.07, \"BCFF11\": 8.68, \"BTLG11\": 102.69, \"CPTS11\": 9.16,\n",
        "    \"HGCR11\": 106.00, \"IRDM11\": 86.08, \"SNAG11\": 10.07, \"KFOF11\": 93.34, \"KISU11\": 7.86,\n",
        "    \"TVRI11\": 103.70, \"SNCI11\": 99.47, \"VILG11\": 90.37, \"VISC11\": 101.31, \"XPCA11\": 9.26,\n",
        "    \"VALE3\": 71.62, \"TAEE11\": 37.05, \"BBDC4\": 13.68, \"BRKM5\": 24.58, \"VBBR3\": 17.44\n",
        "}\n",
        "\n",
        "# Loop para consultar os preços e calcular a comparação percentual\n",
        "for ativo in ativos:\n",
        "    ticker = yf.Ticker(ativo)\n",
        "    preco_atual = ticker.history(period='1d')['Close'].iloc[-1]\n",
        "    ativo_nome = ativo.split('.')[0]  # Remover \".SA\" do ticker\n",
        "    preco_medio = precos_medios[ativo_nome]\n",
        "    comparacao_percentual = (preco_atual / preco_medio) * 100  # Cálculo da comparação percentual\n",
        "\n",
        "    dados[\"Ativo\"].append(ativo_nome)\n",
        "    dados[\"Preço Atual (R$)\"].append(preco_atual)\n",
        "    dados[\"Preço Médio (R$)\"].append(preco_medio)\n",
        "    dados[\"Comparação (%)\"].append(comparacao_percentual)\n",
        "\n",
        "# Criar um DataFrame\n",
        "df = pd.DataFrame(dados)\n",
        "\n",
        "# Exibir a tabela\n",
        "print(df)\n"
      ],
      "metadata": {
        "colab": {
          "base_uri": "https://localhost:8080/"
        },
        "id": "qHz_wRJd99IN",
        "outputId": "ecba82c9-2c46-42fa-fd8f-f16fbecfad5e"
      },
      "execution_count": 18,
      "outputs": [
        {
          "output_type": "stream",
          "name": "stdout",
          "text": [
            "     Ativo  Preço Atual (R$)  Preço Médio (R$)  Comparação (%)\n",
            "0   XPML11        111.660004            103.75      107.624100\n",
            "1   MXRF11         10.100000             10.07      100.297918\n",
            "2   BCFF11          8.400000              8.67       96.885809\n",
            "3   BTLG11        102.500000            102.69       99.814977\n",
            "4   CPTS11          8.300000              9.16       90.611356\n",
            "5   HGCR11        104.000000            106.00       98.113208\n",
            "6   IRDM11         71.760002             86.08       83.364315\n",
            "7   SNAG11         10.220000             10.07      101.489576\n",
            "8   KFOF11         88.800003             93.34       95.136065\n",
            "9   KISU11          8.180000              7.86      104.071251\n",
            "10  TVRI11        102.650002            103.70       98.987465\n",
            "11  SNCI11         96.400002             99.47       96.913644\n",
            "12  VILG11         89.050003             90.37       98.539342\n",
            "13  VISC11        112.599998            101.31      111.144012\n",
            "14  XPCA11          8.740000              9.26       94.384447\n",
            "15   VALE3         57.400002             71.62       80.145213\n",
            "16  TAEE11         35.750000             37.05       96.491228\n",
            "17   BBDC4         15.660000             13.68      114.473683\n",
            "18   BRKM5         17.490000             24.58       71.155410\n",
            "19   VBBR3         25.450001             17.44      145.928903\n"
          ]
        }
      ]
    },
    {
      "cell_type": "code",
      "source": [
        "## Calculo preço médio BCFF11"
      ],
      "metadata": {
        "id": "gthUpDAX-ITF"
      },
      "execution_count": 23,
      "outputs": []
    },
    {
      "cell_type": "code",
      "source": [
        "# Calculo preço médio BCFF11\n",
        "# Dados das compras\n",
        "compras = [\n",
        "    {\"valor_unitario\": 8.39, \"quantidade\": 56},\n",
        "    {\"valor_unitario\": 8.46, \"quantidade\": 40},\n",
        "    {\"valor_unitario\": 8.24, \"quantidade\": 48},\n",
        "    {\"valor_unitario\": 8.96, \"quantidade\": 24},\n",
        "    {\"valor_unitario\": 8.68, \"quantidade\": 80},\n",
        "    {\"valor_unitario\": 7.74, \"quantidade\": 5},\n",
        "    {\"valor_unitario\": 9.06, \"quantidade\": 22},\n",
        "    {\"valor_unitario\": 9.07, \"quantidade\": 60},\n",
        "    {\"valor_unitario\": 9.14, \"quantidade\": 50},\n",
        "    {\"valor_unitario\": 9.00, \"quantidade\": 35},\n",
        "    {\"valor_unitario\": 8.22, \"quantidade\": 50}\n",
        "]\n",
        "\n",
        "# Inicializar variáveis para soma dos valores e quantidades\n",
        "soma_valor_total = 0\n",
        "quantidade_total = 0\n",
        "\n",
        "# Calcular a soma do valor total e a quantidade total\n",
        "for compra in compras:\n",
        "    soma_valor_total += compra[\"valor_unitario\"] * compra[\"quantidade\"]\n",
        "    quantidade_total += compra[\"quantidade\"]\n",
        "\n",
        "# Calcular o preço médio\n",
        "preco_medio = soma_valor_total / quantidade_total\n",
        "\n",
        "# Exibir resultados\n",
        "print(f\"Quantidade total de ativos: {quantidade_total}\")\n",
        "print(f\"Preço médio dos ativos: R$ {preco_medio:.2f}\")\n"
      ],
      "metadata": {
        "colab": {
          "base_uri": "https://localhost:8080/"
        },
        "id": "nX3SWnBfJmFs",
        "outputId": "d58bb160-e48b-4833-d1bc-9568b004b64e"
      },
      "execution_count": 21,
      "outputs": [
        {
          "output_type": "stream",
          "name": "stdout",
          "text": [
            "Quantidade total de ativos: 470\n",
            "Preço médio dos ativos: R$ 8.68\n"
          ]
        }
      ]
    }
  ]
}