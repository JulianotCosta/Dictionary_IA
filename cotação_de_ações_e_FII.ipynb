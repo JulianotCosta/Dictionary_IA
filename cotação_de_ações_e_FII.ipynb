{
  "nbformat": 4,
  "nbformat_minor": 0,
  "metadata": {
    "colab": {
      "provenance": [],
      "authorship_tag": "ABX9TyN1cO6E/2xtIw5rTkfVEClE",
      "include_colab_link": true
    },
    "kernelspec": {
      "name": "python3",
      "display_name": "Python 3"
    },
    "language_info": {
      "name": "python"
    }
  },
  "cells": [
    {
      "cell_type": "markdown",
      "metadata": {
        "id": "view-in-github",
        "colab_type": "text"
      },
      "source": [
        "<a href=\"https://colab.research.google.com/github/JulianotCosta/Dictionary_IA/blob/master/cota%C3%A7%C3%A3o_de_a%C3%A7%C3%B5es_e_FII.ipynb\" target=\"_parent\"><img src=\"https://colab.research.google.com/assets/colab-badge.svg\" alt=\"Open In Colab\"/></a>"
      ]
    },
    {
      "cell_type": "code",
      "execution_count": 14,
      "metadata": {
        "colab": {
          "base_uri": "https://localhost:8080/"
        },
        "id": "AQ9w21rn9coa",
        "outputId": "42ace174-efa4-4ead-ada1-eb6433186fd7"
      },
      "outputs": [
        {
          "output_type": "stream",
          "name": "stdout",
          "text": [
            "Requirement already satisfied: yfinance in /usr/local/lib/python3.10/dist-packages (0.2.41)\n",
            "Requirement already satisfied: pandas>=1.3.0 in /usr/local/lib/python3.10/dist-packages (from yfinance) (2.1.4)\n",
            "Requirement already satisfied: numpy>=1.16.5 in /usr/local/lib/python3.10/dist-packages (from yfinance) (1.26.4)\n",
            "Requirement already satisfied: requests>=2.31 in /usr/local/lib/python3.10/dist-packages (from yfinance) (2.32.3)\n",
            "Requirement already satisfied: multitasking>=0.0.7 in /usr/local/lib/python3.10/dist-packages (from yfinance) (0.0.11)\n",
            "Requirement already satisfied: lxml>=4.9.1 in /usr/local/lib/python3.10/dist-packages (from yfinance) (4.9.4)\n",
            "Requirement already satisfied: platformdirs>=2.0.0 in /usr/local/lib/python3.10/dist-packages (from yfinance) (4.2.2)\n",
            "Requirement already satisfied: pytz>=2022.5 in /usr/local/lib/python3.10/dist-packages (from yfinance) (2024.1)\n",
            "Requirement already satisfied: frozendict>=2.3.4 in /usr/local/lib/python3.10/dist-packages (from yfinance) (2.4.4)\n",
            "Requirement already satisfied: peewee>=3.16.2 in /usr/local/lib/python3.10/dist-packages (from yfinance) (3.17.6)\n",
            "Requirement already satisfied: beautifulsoup4>=4.11.1 in /usr/local/lib/python3.10/dist-packages (from yfinance) (4.12.3)\n",
            "Requirement already satisfied: html5lib>=1.1 in /usr/local/lib/python3.10/dist-packages (from yfinance) (1.1)\n",
            "Requirement already satisfied: soupsieve>1.2 in /usr/local/lib/python3.10/dist-packages (from beautifulsoup4>=4.11.1->yfinance) (2.6)\n",
            "Requirement already satisfied: six>=1.9 in /usr/local/lib/python3.10/dist-packages (from html5lib>=1.1->yfinance) (1.16.0)\n",
            "Requirement already satisfied: webencodings in /usr/local/lib/python3.10/dist-packages (from html5lib>=1.1->yfinance) (0.5.1)\n",
            "Requirement already satisfied: python-dateutil>=2.8.2 in /usr/local/lib/python3.10/dist-packages (from pandas>=1.3.0->yfinance) (2.8.2)\n",
            "Requirement already satisfied: tzdata>=2022.1 in /usr/local/lib/python3.10/dist-packages (from pandas>=1.3.0->yfinance) (2024.1)\n",
            "Requirement already satisfied: charset-normalizer<4,>=2 in /usr/local/lib/python3.10/dist-packages (from requests>=2.31->yfinance) (3.3.2)\n",
            "Requirement already satisfied: idna<4,>=2.5 in /usr/local/lib/python3.10/dist-packages (from requests>=2.31->yfinance) (3.7)\n",
            "Requirement already satisfied: urllib3<3,>=1.21.1 in /usr/local/lib/python3.10/dist-packages (from requests>=2.31->yfinance) (2.0.7)\n",
            "Requirement already satisfied: certifi>=2017.4.17 in /usr/local/lib/python3.10/dist-packages (from requests>=2.31->yfinance) (2024.7.4)\n"
          ]
        }
      ],
      "source": [
        "pip install yfinance"
      ]
    },
    {
      "cell_type": "code",
      "source": [
        "import yfinance as yf\n",
        "import pandas as pd\n",
        "\n",
        "# Lista dos ativos\n",
        "ativos = [\n",
        "    \"XPML11.SA\", \"MXRF11.SA\", \"BCFF11.SA\", \"BTLG11.SA\", \"CPTS11.SA\",\n",
        "    \"HGCR11.SA\", \"IRDM11.SA\", \"SNAG11.SA\", \"KFOF11.SA\", \"KISU11.SA\",\n",
        "    \"TVRI11.SA\", \"SNCI11.SA\", \"VILG11.SA\", \"VISC11.SA\", \"XPCA11.SA\",\n",
        "    \"VALE3.SA\", \"TAEE11.SA\", \"BBDC4.SA\", \"BRKM5.SA\", \"VBBR3.SA\"\n",
        "]\n",
        "\n",
        "# Dicionário para armazenar os dados\n",
        "dados = {\"Ativo\": [], \"Preço Atual (R$)\": [], \"Preço Médio (R$)\": [], \"Comparação (%)\": [], \"Comparação (Valor)\": []}\n",
        "\n",
        "# Dicionário com os preços médios\n",
        "precos_medios = {\n",
        "    \"XPML11\": 103.75, \"MXRF11\": 10.07, \"BCFF11\": 8.68, \"BTLG11\": 102.69, \"CPTS11\": 9.16,\n",
        "    \"HGCR11\": 106.00, \"IRDM11\": 86.08, \"SNAG11\": 10.07, \"KFOF11\": 93.34, \"KISU11\": 7.86,\n",
        "    \"TVRI11\": 103.70, \"SNCI11\": 99.47, \"VILG11\": 90.37, \"VISC11\": 101.31, \"XPCA11\": 9.26,\n",
        "    \"VALE3\": 71.62, \"TAEE11\": 37.05, \"BBDC4\": 13.69, \"BRKM5\": 24.26, \"VBBR3\": 17.44\n",
        "}\n",
        "\n",
        "\n",
        "\n",
        "# Loop para consultar os preços e calcular a comparação percentual\n",
        "for ativo in ativos:\n",
        "    ticker = yf.Ticker(ativo)\n",
        "    preco_atual = ticker.history(period='1d')['Close'].iloc[-1]\n",
        "    preco_atual = round(preco_atual, 2)\n",
        "    ativo_nome = ativo.split('.')[0]  # Remover \".SA\" do ticker\n",
        "    preco_medio = precos_medios[ativo_nome]\n",
        "    comparacao_percentual = (preco_atual / preco_medio) * 100  # Cálculo da comparação percentual\n",
        "    comparacao_percentual = round(comparacao_percentual, 2)\n",
        "    comparacao_valor = (preco_medio - preco_atual)  # Cálculo da comparação em valor\n",
        "\n",
        "    dados[\"Ativo\"].append(ativo_nome)\n",
        "    dados[\"Preço Atual (R$)\"].append(preco_atual)\n",
        "    dados[\"Preço Médio (R$)\"].append(preco_medio)\n",
        "    dados[\"Comparação (%)\"].append(comparacao_percentual)\n",
        "    dados[\"Comparação (Valor)\"].append(comparacao_valor)\n",
        "\n",
        "# Criar um DataFrame\n",
        "df = pd.DataFrame(dados)\n",
        "\n",
        "# Exibir a tabela\n",
        "print(df)\n"
      ],
      "metadata": {
        "colab": {
          "base_uri": "https://localhost:8080/"
        },
        "id": "qHz_wRJd99IN",
        "outputId": "db0df43d-99f1-4cec-bdb3-c50a26298262"
      },
      "execution_count": 69,
      "outputs": [
        {
          "output_type": "stream",
          "name": "stdout",
          "text": [
            "     Ativo  Preço Atual (R$)  Preço Médio (R$)  Comparação (%)  \\\n",
            "0   XPML11            111.66            103.75          107.62   \n",
            "1   MXRF11             10.10             10.07          100.30   \n",
            "2   BCFF11              8.40              8.68           96.77   \n",
            "3   BTLG11            102.50            102.69           99.81   \n",
            "4   CPTS11              8.30              9.16           90.61   \n",
            "5   HGCR11            104.00            106.00           98.11   \n",
            "6   IRDM11             71.76             86.08           83.36   \n",
            "7   SNAG11             10.22             10.07          101.49   \n",
            "8   KFOF11             88.80             93.34           95.14   \n",
            "9   KISU11              8.18              7.86          104.07   \n",
            "10  TVRI11            102.65            103.70           98.99   \n",
            "11  SNCI11             96.40             99.47           96.91   \n",
            "12  VILG11             89.05             90.37           98.54   \n",
            "13  VISC11            112.60            101.31          111.14   \n",
            "14  XPCA11              8.74              9.26           94.38   \n",
            "15   VALE3             57.40             71.62           80.15   \n",
            "16  TAEE11             35.75             37.05           96.49   \n",
            "17   BBDC4             15.66             13.69          114.39   \n",
            "18   BRKM5             17.49             24.26           72.09   \n",
            "19   VBBR3             25.45             17.44          145.93   \n",
            "\n",
            "    Comparação (Valor)  \n",
            "0                -7.91  \n",
            "1                -0.03  \n",
            "2                 0.28  \n",
            "3                 0.19  \n",
            "4                 0.86  \n",
            "5                 2.00  \n",
            "6                14.32  \n",
            "7                -0.15  \n",
            "8                 4.54  \n",
            "9                -0.32  \n",
            "10                1.05  \n",
            "11                3.07  \n",
            "12                1.32  \n",
            "13              -11.29  \n",
            "14                0.52  \n",
            "15               14.22  \n",
            "16                1.30  \n",
            "17               -1.97  \n",
            "18                6.77  \n",
            "19               -8.01  \n"
          ]
        }
      ]
    },
    {
      "cell_type": "code",
      "source": [
        "import pandas as pd\n",
        "\n",
        "# Carregar o arquivo CSV\n",
        "file_path = '/content/compras_ativos.csv'\n",
        "df = pd.read_csv(file_path, delimiter=';')\n",
        "\n",
        "# Calcular o preço médio para cada ticker\n",
        "precos_medios = {}\n",
        "for ticker, group in df.groupby('Ticker'):\n",
        "    total_valor = (group['Valorunitario'] * group['Quantidade']).sum()\n",
        "    total_quantidade = group['Quantidade'].sum()\n",
        "    preco_medio = total_valor / total_quantidade\n",
        "    precos_medios[ticker] = round(preco_medio, 2)\n",
        "\n",
        "print(precos_medios)\n"
      ],
      "metadata": {
        "colab": {
          "base_uri": "https://localhost:8080/"
        },
        "id": "tKa00DmeNiwx",
        "outputId": "f3d01f91-f8c8-46a4-f43d-071ef040c390"
      },
      "execution_count": 70,
      "outputs": [
        {
          "output_type": "stream",
          "name": "stdout",
          "text": [
            "{'BBDC4': 13.69, 'BCFF11': 8.68, 'BRKM5': 24.26, 'BTLG11': 102.7, 'CPTS11': 9.16, 'IRDM11': 86.09, 'KFOF11': 93.34, 'KISU11': 7.87, 'MXRF11': 10.07, 'SNAG11': 10.07, 'SNCI11': 99.48, 'TAEE11': 37.06, 'VALE3': 71.63, 'VBBR3': 17.07, 'VILG11': 90.38, 'VISC11': 101.31, 'XPCA11': 9.26, 'XPML11': 103.75}\n"
          ]
        }
      ]
    },
    {
      "cell_type": "markdown",
      "source": [
        "Calculo preço médio BCFF11"
      ],
      "metadata": {
        "id": "u5IL403yLMNR"
      }
    },
    {
      "cell_type": "code",
      "source": [
        "# Calculo preço médio BCFF11\n",
        "# Dados das compras\n",
        "compras = [\n",
        "    {\"valor_unitario\": 8.39, \"quantidade\": 56},\n",
        "    {\"valor_unitario\": 8.46, \"quantidade\": 40},\n",
        "    {\"valor_unitario\": 8.24, \"quantidade\": 48},\n",
        "    {\"valor_unitario\": 8.96, \"quantidade\": 24},\n",
        "    {\"valor_unitario\": 8.68, \"quantidade\": 80},\n",
        "    {\"valor_unitario\": 7.74, \"quantidade\": 5},\n",
        "    {\"valor_unitario\": 9.06, \"quantidade\": 22},\n",
        "    {\"valor_unitario\": 9.07, \"quantidade\": 60},\n",
        "    {\"valor_unitario\": 9.14, \"quantidade\": 50},\n",
        "    {\"valor_unitario\": 9.00, \"quantidade\": 35},\n",
        "    {\"valor_unitario\": 8.22, \"quantidade\": 50}\n",
        "]\n",
        "\n",
        "# Inicializar variáveis para soma dos valores e quantidades\n",
        "soma_valor_total = 0\n",
        "quantidade_total = 0\n",
        "\n",
        "# Calcular a soma do valor total e a quantidade total\n",
        "for compra in compras:\n",
        "    soma_valor_total += compra[\"valor_unitario\"] * compra[\"quantidade\"]\n",
        "    quantidade_total += compra[\"quantidade\"]\n",
        "\n",
        "# Calcular o preço médio\n",
        "preco_medio = soma_valor_total / quantidade_total\n",
        "\n",
        "# Exibir resultados\n",
        "print(f\"Quantidade total de ativos: {quantidade_total}\")\n",
        "print(f\"Preço médio dos ativos: R$ {preco_medio:.2f}\")\n"
      ],
      "metadata": {
        "colab": {
          "base_uri": "https://localhost:8080/"
        },
        "id": "nX3SWnBfJmFs",
        "outputId": "d58bb160-e48b-4833-d1bc-9568b004b64e"
      },
      "execution_count": 21,
      "outputs": [
        {
          "output_type": "stream",
          "name": "stdout",
          "text": [
            "Quantidade total de ativos: 470\n",
            "Preço médio dos ativos: R$ 8.68\n"
          ]
        }
      ]
    },
    {
      "cell_type": "markdown",
      "source": [
        "\n",
        "\n",
        "Calculo preço médio XPML11\n",
        "\n",
        "\n",
        "```\n",
        "# This is formatted as code\n",
        "```\n",
        "\n",
        "\n",
        "\n"
      ],
      "metadata": {
        "id": "-T7Z_k6FKmhJ"
      }
    },
    {
      "cell_type": "code",
      "source": [
        "# Calculo preço médio XPML11\n",
        "# Dados das compras\n",
        "compras = [\n",
        "    {\"valor_unitario\": 103.95, \"quantidade\": 2},\n",
        "    {\"valor_unitario\": 103.65, \"quantidade\": 4}\n",
        "]\n",
        "\n",
        "# Inicializar variáveis para soma dos valores e quantidades\n",
        "soma_valor_total = 0\n",
        "quantidade_total = 0\n",
        "\n",
        "# Calcular a soma do valor total e a quantidade total\n",
        "for compra in compras:\n",
        "    soma_valor_total += compra[\"valor_unitario\"] * compra[\"quantidade\"]\n",
        "    quantidade_total += compra[\"quantidade\"]\n",
        "\n",
        "# Calcular o preço médio\n",
        "preco_medio = soma_valor_total / quantidade_total\n",
        "\n",
        "# Exibir resultados\n",
        "print(f\"Quantidade total de ativos: {quantidade_total}\")\n",
        "print(f\"Preço médio dos ativos: R$ {preco_medio:.2f}\")\n"
      ],
      "metadata": {
        "colab": {
          "base_uri": "https://localhost:8080/"
        },
        "id": "rPrc5gF-Kl3y",
        "outputId": "f7be7efd-0887-4f64-ef38-e1703cc7d21d"
      },
      "execution_count": 24,
      "outputs": [
        {
          "output_type": "stream",
          "name": "stdout",
          "text": [
            "Quantidade total de ativos: 6\n",
            "Preço médio dos ativos: R$ 103.75\n"
          ]
        }
      ]
    },
    {
      "cell_type": "markdown",
      "source": [
        "Calculo preço médio BBDC4\n"
      ],
      "metadata": {
        "id": "kX_yQu00LbyA"
      }
    },
    {
      "cell_type": "code",
      "source": [
        "# Dados das compras\n",
        "compras = [\n",
        "    {\"valor_unitario\": 15.12, \"quantidade\": 40},\n",
        "    {\"valor_unitario\": 14.91, \"quantidade\": 20},\n",
        "    {\"valor_unitario\": 15.32, \"quantidade\": 20},\n",
        "    {\"valor_unitario\": 13.64, \"quantidade\": 100},\n",
        "    {\"valor_unitario\": 12.93, \"quantidade\": 30},\n",
        "    {\"valor_unitario\": 13.29, \"quantidade\": 20},\n",
        "    {\"valor_unitario\": 15.29, \"quantidade\": 43},\n",
        "    {\"valor_unitario\": 13.24, \"quantidade\": 20},\n",
        "    {\"valor_unitario\": 13.46, \"quantidade\": 20},\n",
        "    {\"valor_unitario\": 13.99, \"quantidade\": 30},\n",
        "    {\"valor_unitario\": 13.72, \"quantidade\": 14},\n",
        "    {\"valor_unitario\": 12.40, \"quantidade\": 10},\n",
        "    {\"valor_unitario\": 12.37, \"quantidade\": 100}\n",
        "]\n",
        "\n",
        "# Inicializar variáveis para soma dos valores e quantidades\n",
        "soma_valor_total = 0\n",
        "quantidade_total = 0\n",
        "\n",
        "# Calcular a soma do valor total e a quantidade total\n",
        "for compra in compras:\n",
        "    soma_valor_total += compra[\"valor_unitario\"] * compra[\"quantidade\"]\n",
        "    quantidade_total += compra[\"quantidade\"]\n",
        "\n",
        "# Calcular o preço médio\n",
        "preco_medio = soma_valor_total / quantidade_total\n",
        "\n",
        "# Exibir resultados\n",
        "print(f\"Quantidade total de ativos: {quantidade_total}\")\n",
        "print(f\"Preço médio dos ativos: R$ {preco_medio:.2f}\")\n"
      ],
      "metadata": {
        "colab": {
          "base_uri": "https://localhost:8080/"
        },
        "id": "ZLebSSWfLhA7",
        "outputId": "43c357d7-1ff3-444c-e21d-84f9f3ddc1b7"
      },
      "execution_count": 26,
      "outputs": [
        {
          "output_type": "stream",
          "name": "stdout",
          "text": [
            "Quantidade total de ativos: 467\n",
            "Preço médio dos ativos: R$ 13.69\n"
          ]
        }
      ]
    },
    {
      "cell_type": "markdown",
      "source": [
        "Calculo preço médio BRKM5"
      ],
      "metadata": {
        "id": "4NNVdWJeMXKV"
      }
    },
    {
      "cell_type": "code",
      "source": [
        "# Dados das compras\n",
        "compras = [\n",
        "    {\"valor_unitario\": 32.16, \"quantidade\": 10},\n",
        "    {\"valor_unitario\": 33.41, \"quantidade\": 10},\n",
        "    {\"valor_unitario\": 29.52, \"quantidade\": 10},\n",
        "    {\"valor_unitario\": 24.16, \"quantidade\": 10},\n",
        "    {\"valor_unitario\": 22.14, \"quantidade\": 30},\n",
        "    {\"valor_unitario\": 18.98, \"quantidade\": 30}\n",
        "]\n",
        "\n",
        "# Inicializar variáveis para soma dos valores e quantidades\n",
        "soma_valor_total = 0\n",
        "quantidade_total = 0\n",
        "\n",
        "# Calcular a soma do valor total e a quantidade total\n",
        "for compra in compras:\n",
        "    soma_valor_total += compra[\"valor_unitario\"] * compra[\"quantidade\"]\n",
        "    quantidade_total += compra[\"quantidade\"]\n",
        "\n",
        "# Calcular o preço médio\n",
        "preco_medio = soma_valor_total / quantidade_total\n",
        "\n",
        "# Exibir resultados\n",
        "print(f\"Quantidade total de ativos: {quantidade_total}\")\n",
        "print(f\"Preço médio dos ativos: R$ {preco_medio:.2f}\")"
      ],
      "metadata": {
        "colab": {
          "base_uri": "https://localhost:8080/"
        },
        "id": "KjTs40lrMhYd",
        "outputId": "c71b8f93-6657-4879-aac4-22769e950460"
      },
      "execution_count": 27,
      "outputs": [
        {
          "output_type": "stream",
          "name": "stdout",
          "text": [
            "Quantidade total de ativos: 100\n",
            "Preço médio dos ativos: R$ 24.26\n"
          ]
        }
      ]
    },
    {
      "cell_type": "markdown",
      "source": [
        "Dividendos dos ultimos 12 meses do XPML11"
      ],
      "metadata": {
        "id": "ZAoqc8kCbRH_"
      }
    },
    {
      "cell_type": "code",
      "source": [
        "# Dados dos dividendos\n",
        "dividendos = [\n",
        "    {\"mes\": 8, \"ano\": 2024, \"valor\": 49.68},\n",
        "    {\"mes\": 7, \"ano\": 2024, \"valor\": 49.68},\n",
        "    {\"mes\": 6, \"ano\": 2024, \"valor\": 49.68},\n",
        "    {\"mes\": 5, \"ano\": 2024, \"valor\": 49.68},\n",
        "    {\"mes\": 4, \"ano\": 2024, \"valor\": 49.14},\n",
        "    {\"mes\": 3, \"ano\": 2024, \"valor\": 48.60},\n",
        "    {\"mes\": 2, \"ano\": 2024, \"valor\": 48.60},\n",
        "    {\"mes\": 1, \"ano\": 2024, \"valor\": 49.68},\n",
        "    {\"mes\": 12, \"ano\": 2023, \"valor\": 48.60},\n",
        "    {\"mes\": 11, \"ano\": 2023, \"valor\": 45.90},\n",
        "    {\"mes\": 10, \"ano\": 2023, \"valor\": 45.90},\n",
        "    {\"mes\": 9, \"ano\": 2023, \"valor\": 45.90}\n",
        "]\n",
        "\n",
        "# Calcula o valor total dos dividendos\n",
        "valor_total = sum(dividendo[\"valor\"] for dividendo in dividendos)\n",
        "\n",
        "print(f\"Valor total dos dividendos recebidos nos últimos 12 meses: R$ {valor_total:.2f}\")"
      ],
      "metadata": {
        "colab": {
          "base_uri": "https://localhost:8080/"
        },
        "id": "OGpWFj-cbNTC",
        "outputId": "edb93c98-7ad8-4fed-cb8f-81623ad15e2f"
      },
      "execution_count": 28,
      "outputs": [
        {
          "output_type": "stream",
          "name": "stdout",
          "text": [
            "Valor total dos dividendos recebidos nos últimos 12 meses: R$ 581.04\n"
          ]
        }
      ]
    },
    {
      "cell_type": "code",
      "source": [
        "\n",
        "import pandas as pd\n",
        "\n",
        "# Lê o arquivo CSV\n",
        "arquivo_csv = '/content/Dividendos.csv'\n",
        "df = pd.read_csv(arquivo_csv, delimiter=';')\n",
        "\n",
        "# Verifica se as colunas estão corretamente nomeadas\n",
        "expected_columns = {'Mes', 'Ano', 'Ticker', 'Valor'}\n",
        "if not expected_columns.issubset(df.columns):\n",
        "    raise ValueError(\"O arquivo CSV não contém as colunas esperadas: Mes, Ano, Ticker, Valor\")\n",
        "\n",
        "# Calcula o valor total dos dividendos recebidos por cada ticker\n",
        "total_dividendos = df.groupby('Ticker')['Valor'].sum().reset_index()\n",
        "\n",
        "# Renomeia a coluna para 'Total' para melhor legibilidade\n",
        "total_dividendos.rename(columns={'Valor': 'Total'}, inplace=True)\n",
        "\n",
        "# Exibe o valor total dos dividendos de cada ticker\n",
        "print(total_dividendos)\n"
      ],
      "metadata": {
        "colab": {
          "base_uri": "https://localhost:8080/"
        },
        "id": "FqVyGM4XgZLb",
        "outputId": "4aa8c1ec-e059-4403-b860-27218471a4cf"
      },
      "execution_count": 71,
      "outputs": [
        {
          "output_type": "stream",
          "name": "stdout",
          "text": [
            "    Ticker    Total\n",
            "0    BBDC4   345.66\n",
            "1   BBPO11   279.62\n",
            "2   BCFF11  1306.29\n",
            "3   BTLG11   683.27\n",
            "4    CMIG4    54.81\n",
            "5    CPEL6    70.27\n",
            "6   CPTS11   834.99\n",
            "7    CYRE3   129.12\n",
            "8    EGIE3   114.68\n",
            "9   HGCR11    88.50\n",
            "10  HGRU11   217.47\n",
            "11  IRDM11  1377.97\n",
            "12   ITSA4   632.33\n",
            "13  KFOF11   108.09\n",
            "14  KISU11   401.88\n",
            "15  KNRI11   294.84\n",
            "16  MXRF11  2529.58\n",
            "17  SNAG11   371.95\n",
            "18  SNCI11   448.90\n",
            "19  TAEE11  1605.78\n",
            "20  TVRI11   295.43\n",
            "21   VALE3   681.18\n",
            "22   VBBR3   175.05\n",
            "23  VILG11   426.40\n",
            "24  VISC11   397.53\n",
            "25  XPCA11  1011.36\n",
            "26  XPML11   975.78\n"
          ]
        }
      ]
    },
    {
      "cell_type": "code",
      "source": [
        "import pandas as pd\n",
        "from datetime import datetime, timedelta\n",
        "\n",
        "# Lê o arquivo CSV\n",
        "arquivo_csv = '/content/Dividendos.csv'\n",
        "df = pd.read_csv(arquivo_csv, delimiter=';')\n",
        "\n",
        "# Verifica se as colunas estão corretamente nomeadas\n",
        "expected_columns = {'Mes', 'Ano', 'Ticker', 'Valor'}\n",
        "if not expected_columns.issubset(df.columns):\n",
        "    raise ValueError(\"O arquivo CSV não contém as colunas esperadas: Mes, Ano, Ticker, Valor\")\n",
        "\n",
        "# Cria uma coluna de data\n",
        "df['Data'] = pd.to_datetime(df['Ano'].astype(str) + df['Mes'].astype(str).str.zfill(2) + '01', format='%Y%m%d')\n",
        "\n",
        "# Obtém a data atual\n",
        "hoje = datetime.now()\n",
        "\n",
        "# Calcula a data limite para os últimos 12 meses\n",
        "data_limite = hoje - timedelta(days=365)\n",
        "\n",
        "# Adiciona uma coluna com o valor dos dividendos recebidos nos últimos 12 meses\n",
        "def calcular_dividendos_ultimos_12_meses(ticker_df):\n",
        "    recent_dividends = ticker_df[ticker_df['Data'] >= data_limite]\n",
        "    return recent_dividends['Valor'].sum()\n",
        "\n",
        "# Calcula o valor total dos dividendos recebidos por cada ticker\n",
        "total_dividendos = df.groupby('Ticker')['Valor'].sum().reset_index()\n",
        "total_dividendos.rename(columns={'Valor': 'Total'}, inplace=True)\n",
        "\n",
        "# Adiciona a coluna 'Dividendos dos Ultimos 12 Meses'\n",
        "total_dividendos['Dividendos dos Ultimos 12 Meses'] = df.groupby('Ticker').apply(calcular_dividendos_ultimos_12_meses).values\n",
        "\n",
        "# Exibe o DataFrame com a nova coluna\n",
        "print(total_dividendos)\n"
      ],
      "metadata": {
        "colab": {
          "base_uri": "https://localhost:8080/"
        },
        "id": "yEQHf7jWQJ60",
        "outputId": "2d653793-82b2-424c-891b-9d8c41a7e59e"
      },
      "execution_count": 72,
      "outputs": [
        {
          "output_type": "stream",
          "name": "stdout",
          "text": [
            "    Ticker    Total  Dividendos dos Ultimos 12 Meses\n",
            "0    BBDC4   345.66                           231.83\n",
            "1   BBPO11   279.62                            55.80\n",
            "2   BCFF11  1306.29                           769.85\n",
            "3   BTLG11   683.27                           395.17\n",
            "4    CMIG4    54.81                            31.50\n",
            "5    CPEL6    70.27                             0.00\n",
            "6   CPTS11   834.99                           548.33\n",
            "7    CYRE3   129.12                             0.00\n",
            "8    EGIE3   114.68                             0.00\n",
            "9   HGCR11    88.50                            76.50\n",
            "10  HGRU11   217.47                            42.00\n",
            "11  IRDM11  1377.97                           886.44\n",
            "12   ITSA4   632.33                           465.34\n",
            "13  KFOF11   108.09                           108.09\n",
            "14  KISU11   401.88                           245.93\n",
            "15  KNRI11   294.84                             0.00\n",
            "16  MXRF11  2529.58                          1469.38\n",
            "17  SNAG11   371.95                           266.75\n",
            "18  SNCI11   448.90                           252.55\n",
            "19  TAEE11  1605.78                           757.73\n",
            "20  TVRI11   295.43                           295.43\n",
            "21   VALE3   681.18                           442.46\n",
            "22   VBBR3   175.05                           116.33\n",
            "23  VILG11   426.40                           204.20\n",
            "24  VISC11   397.53                           242.34\n",
            "25  XPCA11  1011.36                           657.86\n",
            "26  XPML11   975.78                           581.04\n"
          ]
        }
      ]
    },
    {
      "cell_type": "code",
      "source": [
        "import pandas as pd\n",
        "from datetime import datetime, timedelta\n",
        "\n",
        "# Lê o arquivo CSV\n",
        "arquivo_csv = '/content/Dividendos.csv'\n",
        "df = pd.read_csv(arquivo_csv, delimiter=';')\n",
        "\n",
        "\n",
        "# Agrupar os dados por Mês e Ano e somar os valores dos dividendos\n",
        "resultado = df.groupby(['Ano', 'Mes'])['Valor'].sum().reset_index()\n",
        "\n",
        "# Exibir o resultado\n",
        "print(\"Valor total dos dividendos por mês e ano:\")\n",
        "print(resultado)"
      ],
      "metadata": {
        "colab": {
          "base_uri": "https://localhost:8080/"
        },
        "id": "muoV7K0dE77X",
        "outputId": "527a695d-d5b2-471f-8274-5e37c5b4c8a3"
      },
      "execution_count": 50,
      "outputs": [
        {
          "output_type": "stream",
          "name": "stdout",
          "text": [
            "Valor total dos dividendos por mês e ano:\n",
            "     Ano  Mes    Valor\n",
            "0   2022   12   818.97\n",
            "1   2023    1   953.84\n",
            "2   2023    2   596.61\n",
            "3   2023    3   923.64\n",
            "4   2023    4   613.20\n",
            "5   2023    5   610.06\n",
            "6   2023    6   637.02\n",
            "7   2023    7   620.10\n",
            "8   2023    8   942.44\n",
            "9   2023    9   732.93\n",
            "10  2023   10   609.92\n",
            "11  2023   11   547.37\n",
            "12  2023   12   983.71\n",
            "13  2024    1   827.18\n",
            "14  2024    2   573.28\n",
            "15  2024    3   861.70\n",
            "16  2024    4   635.20\n",
            "17  2024    5  1018.74\n",
            "18  2024    6   867.38\n",
            "19  2024    7   663.45\n",
            "20  2024    8   821.99\n"
          ]
        }
      ]
    }
  ]
}